{
 "cells": [
  {
   "cell_type": "code",
   "execution_count": 2,
   "metadata": {},
   "outputs": [
    {
     "name": "stdout",
     "output_type": "stream",
     "text": [
      "Reading from file: POSCAR-0-lorge.vasp\n",
      "Converting: Fractional > Cartesian\n",
      "Writing to file: POSCAR-0-lorge-cart.vasp\n"
     ]
    }
   ],
   "source": [
    "from Cartesian import *\n",
    "switchcart(\"POSCAR-0-lorge.vasp\", \"POSCAR-0-lorge-cart.vasp\")"
   ]
  },
  {
   "cell_type": "code",
   "execution_count": 5,
   "metadata": {},
   "outputs": [
    {
     "name": "stdout",
     "output_type": "stream",
     "text": [
      "Reading from file: POSCAR-0-lorge-cart.vasp\n",
      "Atom ID:  96  /  O 48\n",
      "Coordinates:         3.333986       5.548367       7.651147\n",
      "\n",
      "Reading from file: POSCAR-0-lorge-cart.vasp\n",
      "Atom ID:  85  /  O 37\n",
      "Coordinates:         3.138033       2.661049       7.651147\n",
      "\n",
      "Reading from file: POSCAR-0-lorge-cart.vasp\n",
      "Atom ID:  108  /  O 60\n",
      "Coordinates:         1.666993       5.661501       5.465105\n",
      "\n",
      "Reading from file: POSCAR-0-lorge-cart.vasp\n",
      "Atom ID:  113  /  O 65\n",
      "Coordinates:         1.471039       2.774184       5.465105\n",
      "\n",
      "Reading from file: POSCAR-0-lorge-cart.vasp\n",
      "Atom ID:  99  /  O 51\n",
      "Coordinates:         4.069507       4.048141       5.465105\n",
      "\n",
      "Reading from file: POSCAR-0-lorge-cart.vasp\n",
      "Atom ID:  78  /  O 30\n",
      "Coordinates:         0.735519       4.274409       7.651147\n",
      "\n"
     ]
    }
   ],
   "source": [
    "from Coords import cQuery\n",
    "cQuery(\"POSCAR-0-lorge-cart.vasp\", 96)\n",
    "cQuery(\"POSCAR-0-lorge-cart.vasp\", 85)\n",
    "cQuery(\"POSCAR-0-lorge-cart.vasp\", 108)\n",
    "cQuery(\"POSCAR-0-lorge-cart.vasp\", 113)\n",
    "cQuery(\"POSCAR-0-lorge-cart.vasp\", 99)\n",
    "cQuery(\"POSCAR-0-lorge-cart.vasp\", 78)"
   ]
  },
  {
   "cell_type": "code",
   "execution_count": null,
   "metadata": {},
   "outputs": [],
   "source": []
  }
 ],
 "metadata": {
  "kernelspec": {
   "display_name": "Python 3",
   "language": "python",
   "name": "python3"
  },
  "language_info": {
   "codemirror_mode": {
    "name": "ipython",
    "version": 3
   },
   "file_extension": ".py",
   "mimetype": "text/x-python",
   "name": "python",
   "nbconvert_exporter": "python",
   "pygments_lexer": "ipython3",
   "version": "3.7.4"
  }
 },
 "nbformat": 4,
 "nbformat_minor": 2
}
