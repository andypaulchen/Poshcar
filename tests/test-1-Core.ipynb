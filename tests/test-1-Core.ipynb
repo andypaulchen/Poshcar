{
 "cells": [
  {
   "cell_type": "markdown",
   "metadata": {},
   "source": [
    "# POSHCAR DEMO No. 1: The Basics\n",
    "## General notes\n",
    "1. The argument **`data`**, and its variations (**`data1`**, **`data2`**, etc.) always refer to the data type of the POSCAR file converted to a list form where each list element refers to a (string) line, in sequence.\n",
    "2. Functions with the optional argument **`verbosity = True`** give detailed output by default. If you are writing it into a loop and don't want to bother with those, set it to **`verbosity = False`**."
   ]
  },
  {
   "cell_type": "markdown",
   "metadata": {},
   "source": [
    "## Installation Routine"
   ]
  },
  {
   "cell_type": "markdown",
   "metadata": {},
   "source": [
    "Step 1. Navigate to the directory where you downloaded Poshcar"
   ]
  },
  {
   "cell_type": "code",
   "execution_count": 5,
   "metadata": {},
   "outputs": [
    {
     "name": "stdout",
     "output_type": "stream",
     "text": [
      "C:\\Users\\andyp\\OneDrive\\Documents\\GitHub\\poshcar\n"
     ]
    },
    {
     "name": "stderr",
     "output_type": "stream",
     "text": [
      "C:\\Users\\andyp\\anaconda3\\envs\\Vaspnest\\lib\\site-packages\\IPython\\core\\magics\\osm.py:417: UserWarning: using dhist requires you to install the `pickleshare` library.\n",
      "  self.shell.db['dhist'] = compress_dhist(dhist)[-100:]\n"
     ]
    }
   ],
   "source": [
    "cd \"C:\\Users\\andyp\\OneDrive\\Documents\\GitHub\\poshcar\""
   ]
  },
  {
   "cell_type": "markdown",
   "metadata": {},
   "source": [
    "Step 2. Install (this one has -e for editable mode)"
   ]
  },
  {
   "cell_type": "code",
   "execution_count": 7,
   "metadata": {},
   "outputs": [
    {
     "name": "stdout",
     "output_type": "stream",
     "text": [
      "Obtaining file:///C:/Users/andyp/OneDrive/Documents/GitHub/poshcar\n",
      "  Preparing metadata (setup.py): started\n",
      "  Preparing metadata (setup.py): finished with status 'done'\n",
      "Requirement already satisfied: ase in c:\\users\\andyp\\anaconda3\\envs\\vaspnest\\lib\\site-packages (from poshcar==1.0.0) (3.22.1)\n",
      "Requirement already satisfied: pyvis in c:\\users\\andyp\\anaconda3\\envs\\vaspnest\\lib\\site-packages (from poshcar==1.0.0) (0.3.2)\n",
      "Requirement already satisfied: rdkit in c:\\users\\andyp\\anaconda3\\envs\\vaspnest\\lib\\site-packages (from poshcar==1.0.0) (2023.9.5)\n",
      "Requirement already satisfied: scipy in c:\\users\\andyp\\anaconda3\\envs\\vaspnest\\lib\\site-packages (from poshcar==1.0.0) (1.12.0)\n",
      "Requirement already satisfied: pymatgen in c:\\users\\andyp\\anaconda3\\envs\\vaspnest\\lib\\site-packages (from poshcar==1.0.0) (2024.4.13)\n",
      "Requirement already satisfied: chgnet in c:\\users\\andyp\\anaconda3\\envs\\vaspnest\\lib\\site-packages (from poshcar==1.0.0) (0.3.4)\n",
      "Requirement already satisfied: nglview in c:\\users\\andyp\\anaconda3\\envs\\vaspnest\\lib\\site-packages (from poshcar==1.0.0) (3.1.1)\n",
      "Requirement already satisfied: pandas in c:\\users\\andyp\\anaconda3\\envs\\vaspnest\\lib\\site-packages (from poshcar==1.0.0) (2.2.1)\n",
      "Requirement already satisfied: matplotlib>=3.1.0 in c:\\users\\andyp\\anaconda3\\envs\\vaspnest\\lib\\site-packages (from ase->poshcar==1.0.0) (3.8.3)\n",
      "Requirement already satisfied: numpy>=1.15.0 in c:\\users\\andyp\\anaconda3\\envs\\vaspnest\\lib\\site-packages (from ase->poshcar==1.0.0) (1.26.4)\n",
      "Requirement already satisfied: cython>=0.29.26 in c:\\users\\andyp\\anaconda3\\envs\\vaspnest\\lib\\site-packages (from chgnet->poshcar==1.0.0) (3.0.8)\n",
      "Requirement already satisfied: nvidia-ml-py3>=7.352.0 in c:\\users\\andyp\\anaconda3\\envs\\vaspnest\\lib\\site-packages (from chgnet->poshcar==1.0.0) (7.352.0)\n",
      "Requirement already satisfied: torch>=1.11.0 in c:\\users\\andyp\\anaconda3\\envs\\vaspnest\\lib\\site-packages (from chgnet->poshcar==1.0.0) (2.2.1)\n",
      "Requirement already satisfied: monty>=2024.2.2 in c:\\users\\andyp\\anaconda3\\envs\\vaspnest\\lib\\site-packages (from pymatgen->poshcar==1.0.0) (2024.2.26)\n",
      "Requirement already satisfied: networkx>=2.2 in c:\\users\\andyp\\anaconda3\\envs\\vaspnest\\lib\\site-packages (from pymatgen->poshcar==1.0.0) (3.2.1)\n",
      "Requirement already satisfied: palettable>=3.1.1 in c:\\users\\andyp\\anaconda3\\envs\\vaspnest\\lib\\site-packages (from pymatgen->poshcar==1.0.0) (3.3.3)\n",
      "Requirement already satisfied: plotly>=4.5.0 in c:\\users\\andyp\\anaconda3\\envs\\vaspnest\\lib\\site-packages (from pymatgen->poshcar==1.0.0) (5.19.0)\n",
      "Requirement already satisfied: pybtex in c:\\users\\andyp\\anaconda3\\envs\\vaspnest\\lib\\site-packages (from pymatgen->poshcar==1.0.0) (0.24.0)\n",
      "Requirement already satisfied: requests in c:\\users\\andyp\\anaconda3\\envs\\vaspnest\\lib\\site-packages (from pymatgen->poshcar==1.0.0) (2.31.0)\n",
      "Requirement already satisfied: ruamel.yaml>=0.17.0 in c:\\users\\andyp\\anaconda3\\envs\\vaspnest\\lib\\site-packages (from pymatgen->poshcar==1.0.0) (0.17.40)\n",
      "Requirement already satisfied: spglib>=2.0.2 in c:\\users\\andyp\\anaconda3\\envs\\vaspnest\\lib\\site-packages (from pymatgen->poshcar==1.0.0) (2.3.1)\n",
      "Requirement already satisfied: sympy in c:\\users\\andyp\\anaconda3\\envs\\vaspnest\\lib\\site-packages (from pymatgen->poshcar==1.0.0) (1.12)\n",
      "Requirement already satisfied: tabulate in c:\\users\\andyp\\anaconda3\\envs\\vaspnest\\lib\\site-packages (from pymatgen->poshcar==1.0.0) (0.9.0)\n",
      "Requirement already satisfied: tqdm in c:\\users\\andyp\\anaconda3\\envs\\vaspnest\\lib\\site-packages (from pymatgen->poshcar==1.0.0) (4.66.2)\n",
      "Requirement already satisfied: uncertainties>=3.1.4 in c:\\users\\andyp\\anaconda3\\envs\\vaspnest\\lib\\site-packages (from pymatgen->poshcar==1.0.0) (3.1.7)\n",
      "Requirement already satisfied: joblib in c:\\users\\andyp\\anaconda3\\envs\\vaspnest\\lib\\site-packages (from pymatgen->poshcar==1.0.0) (1.3.2)\n",
      "Requirement already satisfied: ipywidgets>=8 in c:\\users\\andyp\\anaconda3\\envs\\vaspnest\\lib\\site-packages (from nglview->poshcar==1.0.0) (8.1.2)\n",
      "Requirement already satisfied: notebook>=7 in c:\\users\\andyp\\anaconda3\\envs\\vaspnest\\lib\\site-packages (from nglview->poshcar==1.0.0) (7.1.1)\n",
      "Requirement already satisfied: jupyterlab-widgets in c:\\users\\andyp\\anaconda3\\envs\\vaspnest\\lib\\site-packages (from nglview->poshcar==1.0.0) (3.0.10)\n",
      "Requirement already satisfied: python-dateutil>=2.8.2 in c:\\users\\andyp\\anaconda3\\envs\\vaspnest\\lib\\site-packages (from pandas->poshcar==1.0.0) (2.8.2)\n",
      "Requirement already satisfied: pytz>=2020.1 in c:\\users\\andyp\\anaconda3\\envs\\vaspnest\\lib\\site-packages (from pandas->poshcar==1.0.0) (2024.1)\n",
      "Requirement already satisfied: tzdata>=2022.7 in c:\\users\\andyp\\anaconda3\\envs\\vaspnest\\lib\\site-packages (from pandas->poshcar==1.0.0) (2024.1)\n",
      "Requirement already satisfied: ipython>=5.3.0 in c:\\users\\andyp\\anaconda3\\envs\\vaspnest\\lib\\site-packages (from pyvis->poshcar==1.0.0) (8.20.0)\n",
      "Requirement already satisfied: jinja2>=2.9.6 in c:\\users\\andyp\\anaconda3\\envs\\vaspnest\\lib\\site-packages (from pyvis->poshcar==1.0.0) (3.1.3)\n",
      "Requirement already satisfied: jsonpickle>=1.4.1 in c:\\users\\andyp\\anaconda3\\envs\\vaspnest\\lib\\site-packages (from pyvis->poshcar==1.0.0) (3.0.3)\n",
      "Requirement already satisfied: Pillow in c:\\users\\andyp\\anaconda3\\envs\\vaspnest\\lib\\site-packages (from rdkit->poshcar==1.0.0) (10.2.0)\n",
      "Requirement already satisfied: decorator in c:\\users\\andyp\\anaconda3\\envs\\vaspnest\\lib\\site-packages (from ipython>=5.3.0->pyvis->poshcar==1.0.0) (5.1.1)\n",
      "Requirement already satisfied: jedi>=0.16 in c:\\users\\andyp\\anaconda3\\envs\\vaspnest\\lib\\site-packages (from ipython>=5.3.0->pyvis->poshcar==1.0.0) (0.18.1)\n",
      "Requirement already satisfied: matplotlib-inline in c:\\users\\andyp\\anaconda3\\envs\\vaspnest\\lib\\site-packages (from ipython>=5.3.0->pyvis->poshcar==1.0.0) (0.1.6)\n",
      "Requirement already satisfied: prompt-toolkit<3.1.0,>=3.0.41 in c:\\users\\andyp\\anaconda3\\envs\\vaspnest\\lib\\site-packages (from ipython>=5.3.0->pyvis->poshcar==1.0.0) (3.0.43)\n",
      "Requirement already satisfied: pygments>=2.4.0 in c:\\users\\andyp\\anaconda3\\envs\\vaspnest\\lib\\site-packages (from ipython>=5.3.0->pyvis->poshcar==1.0.0) (2.17.2)\n",
      "Requirement already satisfied: stack-data in c:\\users\\andyp\\anaconda3\\envs\\vaspnest\\lib\\site-packages (from ipython>=5.3.0->pyvis->poshcar==1.0.0) (0.2.0)\n",
      "Requirement already satisfied: traitlets>=5 in c:\\users\\andyp\\anaconda3\\envs\\vaspnest\\lib\\site-packages (from ipython>=5.3.0->pyvis->poshcar==1.0.0) (5.7.1)\n",
      "Requirement already satisfied: exceptiongroup in c:\\users\\andyp\\anaconda3\\envs\\vaspnest\\lib\\site-packages (from ipython>=5.3.0->pyvis->poshcar==1.0.0) (1.2.0)\n",
      "Requirement already satisfied: colorama in c:\\users\\andyp\\anaconda3\\envs\\vaspnest\\lib\\site-packages (from ipython>=5.3.0->pyvis->poshcar==1.0.0) (0.4.6)\n",
      "Requirement already satisfied: comm>=0.1.3 in c:\\users\\andyp\\anaconda3\\envs\\vaspnest\\lib\\site-packages (from ipywidgets>=8->nglview->poshcar==1.0.0) (0.2.1)\n",
      "Requirement already satisfied: widgetsnbextension~=4.0.10 in c:\\users\\andyp\\anaconda3\\envs\\vaspnest\\lib\\site-packages (from ipywidgets>=8->nglview->poshcar==1.0.0) (4.0.10)\n",
      "Requirement already satisfied: MarkupSafe>=2.0 in c:\\users\\andyp\\anaconda3\\envs\\vaspnest\\lib\\site-packages (from jinja2>=2.9.6->pyvis->poshcar==1.0.0) (2.1.5)\n",
      "Requirement already satisfied: contourpy>=1.0.1 in c:\\users\\andyp\\anaconda3\\envs\\vaspnest\\lib\\site-packages (from matplotlib>=3.1.0->ase->poshcar==1.0.0) (1.2.0)\n",
      "Requirement already satisfied: cycler>=0.10 in c:\\users\\andyp\\anaconda3\\envs\\vaspnest\\lib\\site-packages (from matplotlib>=3.1.0->ase->poshcar==1.0.0) (0.12.1)\n",
      "Requirement already satisfied: fonttools>=4.22.0 in c:\\users\\andyp\\anaconda3\\envs\\vaspnest\\lib\\site-packages (from matplotlib>=3.1.0->ase->poshcar==1.0.0) (4.49.0)\n",
      "Requirement already satisfied: kiwisolver>=1.3.1 in c:\\users\\andyp\\anaconda3\\envs\\vaspnest\\lib\\site-packages (from matplotlib>=3.1.0->ase->poshcar==1.0.0) (1.4.5)\n",
      "Requirement already satisfied: packaging>=20.0 in c:\\users\\andyp\\anaconda3\\envs\\vaspnest\\lib\\site-packages (from matplotlib>=3.1.0->ase->poshcar==1.0.0) (23.2)\n",
      "Requirement already satisfied: pyparsing>=2.3.1 in c:\\users\\andyp\\anaconda3\\envs\\vaspnest\\lib\\site-packages (from matplotlib>=3.1.0->ase->poshcar==1.0.0) (3.1.1)\n",
      "Requirement already satisfied: jupyter-server<3,>=2.4.0 in c:\\users\\andyp\\anaconda3\\envs\\vaspnest\\lib\\site-packages (from notebook>=7->nglview->poshcar==1.0.0) (2.12.5)\n",
      "Requirement already satisfied: jupyterlab-server<3,>=2.22.1 in c:\\users\\andyp\\anaconda3\\envs\\vaspnest\\lib\\site-packages (from notebook>=7->nglview->poshcar==1.0.0) (2.25.3)\n",
      "Requirement already satisfied: jupyterlab<4.2,>=4.1.1 in c:\\users\\andyp\\anaconda3\\envs\\vaspnest\\lib\\site-packages (from notebook>=7->nglview->poshcar==1.0.0) (4.1.2)\n",
      "Requirement already satisfied: notebook-shim<0.3,>=0.2 in c:\\users\\andyp\\anaconda3\\envs\\vaspnest\\lib\\site-packages (from notebook>=7->nglview->poshcar==1.0.0) (0.2.4)\n",
      "Requirement already satisfied: tornado>=6.2.0 in c:\\users\\andyp\\anaconda3\\envs\\vaspnest\\lib\\site-packages (from notebook>=7->nglview->poshcar==1.0.0) (6.3.3)\n",
      "Requirement already satisfied: tenacity>=6.2.0 in c:\\users\\andyp\\anaconda3\\envs\\vaspnest\\lib\\site-packages (from plotly>=4.5.0->pymatgen->poshcar==1.0.0) (8.2.3)\n",
      "Requirement already satisfied: six>=1.5 in c:\\users\\andyp\\anaconda3\\envs\\vaspnest\\lib\\site-packages (from python-dateutil>=2.8.2->pandas->poshcar==1.0.0) (1.16.0)\n",
      "Requirement already satisfied: ruamel.yaml.clib>=0.2.7 in c:\\users\\andyp\\anaconda3\\envs\\vaspnest\\lib\\site-packages (from ruamel.yaml>=0.17.0->pymatgen->poshcar==1.0.0) (0.2.8)\n",
      "Requirement already satisfied: filelock in c:\\users\\andyp\\anaconda3\\envs\\vaspnest\\lib\\site-packages (from torch>=1.11.0->chgnet->poshcar==1.0.0) (3.13.1)\n",
      "Requirement already satisfied: typing-extensions>=4.8.0 in c:\\users\\andyp\\anaconda3\\envs\\vaspnest\\lib\\site-packages (from torch>=1.11.0->chgnet->poshcar==1.0.0) (4.9.0)\n",
      "Requirement already satisfied: fsspec in c:\\users\\andyp\\anaconda3\\envs\\vaspnest\\lib\\site-packages (from torch>=1.11.0->chgnet->poshcar==1.0.0) (2024.2.0)\n",
      "Requirement already satisfied: future in c:\\users\\andyp\\anaconda3\\envs\\vaspnest\\lib\\site-packages (from uncertainties>=3.1.4->pymatgen->poshcar==1.0.0) (1.0.0)\n",
      "Requirement already satisfied: PyYAML>=3.01 in c:\\users\\andyp\\anaconda3\\envs\\vaspnest\\lib\\site-packages (from pybtex->pymatgen->poshcar==1.0.0) (6.0.1)\n",
      "Requirement already satisfied: latexcodec>=1.0.4 in c:\\users\\andyp\\anaconda3\\envs\\vaspnest\\lib\\site-packages (from pybtex->pymatgen->poshcar==1.0.0) (2.0.1)\n",
      "Requirement already satisfied: charset-normalizer<4,>=2 in c:\\users\\andyp\\anaconda3\\envs\\vaspnest\\lib\\site-packages (from requests->pymatgen->poshcar==1.0.0) (3.3.2)\n",
      "Requirement already satisfied: idna<4,>=2.5 in c:\\users\\andyp\\anaconda3\\envs\\vaspnest\\lib\\site-packages (from requests->pymatgen->poshcar==1.0.0) (3.6)\n",
      "Requirement already satisfied: urllib3<3,>=1.21.1 in c:\\users\\andyp\\anaconda3\\envs\\vaspnest\\lib\\site-packages (from requests->pymatgen->poshcar==1.0.0) (2.0.7)\n",
      "Requirement already satisfied: certifi>=2017.4.17 in c:\\users\\andyp\\anaconda3\\envs\\vaspnest\\lib\\site-packages (from requests->pymatgen->poshcar==1.0.0) (2024.8.30)\n",
      "Requirement already satisfied: mpmath>=0.19 in c:\\users\\andyp\\anaconda3\\envs\\vaspnest\\lib\\site-packages (from sympy->pymatgen->poshcar==1.0.0) (1.3.0)\n",
      "Requirement already satisfied: parso<0.9.0,>=0.8.0 in c:\\users\\andyp\\anaconda3\\envs\\vaspnest\\lib\\site-packages (from jedi>=0.16->ipython>=5.3.0->pyvis->poshcar==1.0.0) (0.8.3)\n",
      "Requirement already satisfied: anyio>=3.1.0 in c:\\users\\andyp\\anaconda3\\envs\\vaspnest\\lib\\site-packages (from jupyter-server<3,>=2.4.0->notebook>=7->nglview->poshcar==1.0.0) (4.3.0)\n",
      "Requirement already satisfied: argon2-cffi in c:\\users\\andyp\\anaconda3\\envs\\vaspnest\\lib\\site-packages (from jupyter-server<3,>=2.4.0->notebook>=7->nglview->poshcar==1.0.0) (23.1.0)\n",
      "Requirement already satisfied: jupyter-client>=7.4.4 in c:\\users\\andyp\\anaconda3\\envs\\vaspnest\\lib\\site-packages (from jupyter-server<3,>=2.4.0->notebook>=7->nglview->poshcar==1.0.0) (8.6.0)\n",
      "Requirement already satisfied: jupyter-core!=5.0.*,>=4.12 in c:\\users\\andyp\\anaconda3\\envs\\vaspnest\\lib\\site-packages (from jupyter-server<3,>=2.4.0->notebook>=7->nglview->poshcar==1.0.0) (5.5.0)\n",
      "Requirement already satisfied: jupyter-events>=0.9.0 in c:\\users\\andyp\\anaconda3\\envs\\vaspnest\\lib\\site-packages (from jupyter-server<3,>=2.4.0->notebook>=7->nglview->poshcar==1.0.0) (0.9.0)\n",
      "Requirement already satisfied: jupyter-server-terminals in c:\\users\\andyp\\anaconda3\\envs\\vaspnest\\lib\\site-packages (from jupyter-server<3,>=2.4.0->notebook>=7->nglview->poshcar==1.0.0) (0.5.2)\n",
      "Requirement already satisfied: nbconvert>=6.4.4 in c:\\users\\andyp\\anaconda3\\envs\\vaspnest\\lib\\site-packages (from jupyter-server<3,>=2.4.0->notebook>=7->nglview->poshcar==1.0.0) (7.16.1)\n",
      "Requirement already satisfied: nbformat>=5.3.0 in c:\\users\\andyp\\anaconda3\\envs\\vaspnest\\lib\\site-packages (from jupyter-server<3,>=2.4.0->notebook>=7->nglview->poshcar==1.0.0) (5.9.2)\n",
      "Requirement already satisfied: overrides in c:\\users\\andyp\\anaconda3\\envs\\vaspnest\\lib\\site-packages (from jupyter-server<3,>=2.4.0->notebook>=7->nglview->poshcar==1.0.0) (7.7.0)\n",
      "Requirement already satisfied: prometheus-client in c:\\users\\andyp\\anaconda3\\envs\\vaspnest\\lib\\site-packages (from jupyter-server<3,>=2.4.0->notebook>=7->nglview->poshcar==1.0.0) (0.20.0)\n",
      "Requirement already satisfied: pywinpty in c:\\users\\andyp\\anaconda3\\envs\\vaspnest\\lib\\site-packages (from jupyter-server<3,>=2.4.0->notebook>=7->nglview->poshcar==1.0.0) (2.0.13)\n",
      "Requirement already satisfied: pyzmq>=24 in c:\\users\\andyp\\anaconda3\\envs\\vaspnest\\lib\\site-packages (from jupyter-server<3,>=2.4.0->notebook>=7->nglview->poshcar==1.0.0) (25.1.2)\n",
      "Requirement already satisfied: send2trash>=1.8.2 in c:\\users\\andyp\\anaconda3\\envs\\vaspnest\\lib\\site-packages (from jupyter-server<3,>=2.4.0->notebook>=7->nglview->poshcar==1.0.0) (1.8.2)\n",
      "Requirement already satisfied: terminado>=0.8.3 in c:\\users\\andyp\\anaconda3\\envs\\vaspnest\\lib\\site-packages (from jupyter-server<3,>=2.4.0->notebook>=7->nglview->poshcar==1.0.0) (0.18.0)\n",
      "Requirement already satisfied: websocket-client in c:\\users\\andyp\\anaconda3\\envs\\vaspnest\\lib\\site-packages (from jupyter-server<3,>=2.4.0->notebook>=7->nglview->poshcar==1.0.0) (1.7.0)\n",
      "Requirement already satisfied: async-lru>=1.0.0 in c:\\users\\andyp\\anaconda3\\envs\\vaspnest\\lib\\site-packages (from jupyterlab<4.2,>=4.1.1->notebook>=7->nglview->poshcar==1.0.0) (2.0.4)\n",
      "Requirement already satisfied: httpx>=0.25.0 in c:\\users\\andyp\\anaconda3\\envs\\vaspnest\\lib\\site-packages (from jupyterlab<4.2,>=4.1.1->notebook>=7->nglview->poshcar==1.0.0) (0.27.0)\n",
      "Requirement already satisfied: ipykernel in c:\\users\\andyp\\anaconda3\\envs\\vaspnest\\lib\\site-packages (from jupyterlab<4.2,>=4.1.1->notebook>=7->nglview->poshcar==1.0.0) (6.28.0)\n",
      "Requirement already satisfied: jupyter-lsp>=2.0.0 in c:\\users\\andyp\\anaconda3\\envs\\vaspnest\\lib\\site-packages (from jupyterlab<4.2,>=4.1.1->notebook>=7->nglview->poshcar==1.0.0) (2.2.3)\n",
      "Requirement already satisfied: tomli in c:\\users\\andyp\\anaconda3\\envs\\vaspnest\\lib\\site-packages (from jupyterlab<4.2,>=4.1.1->notebook>=7->nglview->poshcar==1.0.0) (2.0.1)\n",
      "Requirement already satisfied: babel>=2.10 in c:\\users\\andyp\\anaconda3\\envs\\vaspnest\\lib\\site-packages (from jupyterlab-server<3,>=2.22.1->notebook>=7->nglview->poshcar==1.0.0) (2.14.0)\n",
      "Requirement already satisfied: json5>=0.9.0 in c:\\users\\andyp\\anaconda3\\envs\\vaspnest\\lib\\site-packages (from jupyterlab-server<3,>=2.22.1->notebook>=7->nglview->poshcar==1.0.0) (0.9.17)\n",
      "Requirement already satisfied: jsonschema>=4.18.0 in c:\\users\\andyp\\anaconda3\\envs\\vaspnest\\lib\\site-packages (from jupyterlab-server<3,>=2.22.1->notebook>=7->nglview->poshcar==1.0.0) (4.21.1)\n",
      "Requirement already satisfied: wcwidth in c:\\users\\andyp\\anaconda3\\envs\\vaspnest\\lib\\site-packages (from prompt-toolkit<3.1.0,>=3.0.41->ipython>=5.3.0->pyvis->poshcar==1.0.0) (0.2.5)\n",
      "Requirement already satisfied: executing in c:\\users\\andyp\\anaconda3\\envs\\vaspnest\\lib\\site-packages (from stack-data->ipython>=5.3.0->pyvis->poshcar==1.0.0) (0.8.3)\n",
      "Requirement already satisfied: asttokens in c:\\users\\andyp\\anaconda3\\envs\\vaspnest\\lib\\site-packages (from stack-data->ipython>=5.3.0->pyvis->poshcar==1.0.0) (2.0.5)\n",
      "Requirement already satisfied: pure-eval in c:\\users\\andyp\\anaconda3\\envs\\vaspnest\\lib\\site-packages (from stack-data->ipython>=5.3.0->pyvis->poshcar==1.0.0) (0.2.2)\n",
      "Requirement already satisfied: sniffio>=1.1 in c:\\users\\andyp\\anaconda3\\envs\\vaspnest\\lib\\site-packages (from anyio>=3.1.0->jupyter-server<3,>=2.4.0->notebook>=7->nglview->poshcar==1.0.0) (1.3.1)\n",
      "Requirement already satisfied: httpcore==1.* in c:\\users\\andyp\\anaconda3\\envs\\vaspnest\\lib\\site-packages (from httpx>=0.25.0->jupyterlab<4.2,>=4.1.1->notebook>=7->nglview->poshcar==1.0.0) (1.0.4)\n",
      "Requirement already satisfied: h11<0.15,>=0.13 in c:\\users\\andyp\\anaconda3\\envs\\vaspnest\\lib\\site-packages (from httpcore==1.*->httpx>=0.25.0->jupyterlab<4.2,>=4.1.1->notebook>=7->nglview->poshcar==1.0.0) (0.14.0)\n",
      "Requirement already satisfied: attrs>=22.2.0 in c:\\users\\andyp\\anaconda3\\envs\\vaspnest\\lib\\site-packages (from jsonschema>=4.18.0->jupyterlab-server<3,>=2.22.1->notebook>=7->nglview->poshcar==1.0.0) (23.2.0)\n",
      "Requirement already satisfied: jsonschema-specifications>=2023.03.6 in c:\\users\\andyp\\anaconda3\\envs\\vaspnest\\lib\\site-packages (from jsonschema>=4.18.0->jupyterlab-server<3,>=2.22.1->notebook>=7->nglview->poshcar==1.0.0) (2023.12.1)\n",
      "Requirement already satisfied: referencing>=0.28.4 in c:\\users\\andyp\\anaconda3\\envs\\vaspnest\\lib\\site-packages (from jsonschema>=4.18.0->jupyterlab-server<3,>=2.22.1->notebook>=7->nglview->poshcar==1.0.0) (0.33.0)\n",
      "Requirement already satisfied: rpds-py>=0.7.1 in c:\\users\\andyp\\anaconda3\\envs\\vaspnest\\lib\\site-packages (from jsonschema>=4.18.0->jupyterlab-server<3,>=2.22.1->notebook>=7->nglview->poshcar==1.0.0) (0.18.0)\n",
      "Requirement already satisfied: platformdirs>=2.5 in c:\\users\\andyp\\anaconda3\\envs\\vaspnest\\lib\\site-packages (from jupyter-core!=5.0.*,>=4.12->jupyter-server<3,>=2.4.0->notebook>=7->nglview->poshcar==1.0.0) (3.10.0)\n",
      "Requirement already satisfied: pywin32>=300 in c:\\users\\andyp\\anaconda3\\envs\\vaspnest\\lib\\site-packages (from jupyter-core!=5.0.*,>=4.12->jupyter-server<3,>=2.4.0->notebook>=7->nglview->poshcar==1.0.0) (305.1)\n",
      "Requirement already satisfied: python-json-logger>=2.0.4 in c:\\users\\andyp\\anaconda3\\envs\\vaspnest\\lib\\site-packages (from jupyter-events>=0.9.0->jupyter-server<3,>=2.4.0->notebook>=7->nglview->poshcar==1.0.0) (2.0.7)\n",
      "Requirement already satisfied: rfc3339-validator in c:\\users\\andyp\\anaconda3\\envs\\vaspnest\\lib\\site-packages (from jupyter-events>=0.9.0->jupyter-server<3,>=2.4.0->notebook>=7->nglview->poshcar==1.0.0) (0.1.4)\n",
      "Requirement already satisfied: rfc3986-validator>=0.1.1 in c:\\users\\andyp\\anaconda3\\envs\\vaspnest\\lib\\site-packages (from jupyter-events>=0.9.0->jupyter-server<3,>=2.4.0->notebook>=7->nglview->poshcar==1.0.0) (0.1.1)\n",
      "Requirement already satisfied: beautifulsoup4 in c:\\users\\andyp\\anaconda3\\envs\\vaspnest\\lib\\site-packages (from nbconvert>=6.4.4->jupyter-server<3,>=2.4.0->notebook>=7->nglview->poshcar==1.0.0) (4.12.3)\n",
      "Requirement already satisfied: bleach!=5.0.0 in c:\\users\\andyp\\anaconda3\\envs\\vaspnest\\lib\\site-packages (from nbconvert>=6.4.4->jupyter-server<3,>=2.4.0->notebook>=7->nglview->poshcar==1.0.0) (6.1.0)\n",
      "Requirement already satisfied: defusedxml in c:\\users\\andyp\\anaconda3\\envs\\vaspnest\\lib\\site-packages (from nbconvert>=6.4.4->jupyter-server<3,>=2.4.0->notebook>=7->nglview->poshcar==1.0.0) (0.7.1)\n",
      "Requirement already satisfied: jupyterlab-pygments in c:\\users\\andyp\\anaconda3\\envs\\vaspnest\\lib\\site-packages (from nbconvert>=6.4.4->jupyter-server<3,>=2.4.0->notebook>=7->nglview->poshcar==1.0.0) (0.3.0)\n",
      "Requirement already satisfied: mistune<4,>=2.0.3 in c:\\users\\andyp\\anaconda3\\envs\\vaspnest\\lib\\site-packages (from nbconvert>=6.4.4->jupyter-server<3,>=2.4.0->notebook>=7->nglview->poshcar==1.0.0) (3.0.2)\n",
      "Requirement already satisfied: nbclient>=0.5.0 in c:\\users\\andyp\\anaconda3\\envs\\vaspnest\\lib\\site-packages (from nbconvert>=6.4.4->jupyter-server<3,>=2.4.0->notebook>=7->nglview->poshcar==1.0.0) (0.9.0)\n",
      "Requirement already satisfied: pandocfilters>=1.4.1 in c:\\users\\andyp\\anaconda3\\envs\\vaspnest\\lib\\site-packages (from nbconvert>=6.4.4->jupyter-server<3,>=2.4.0->notebook>=7->nglview->poshcar==1.0.0) (1.5.1)\n",
      "Requirement already satisfied: tinycss2 in c:\\users\\andyp\\anaconda3\\envs\\vaspnest\\lib\\site-packages (from nbconvert>=6.4.4->jupyter-server<3,>=2.4.0->notebook>=7->nglview->poshcar==1.0.0) (1.2.1)\n",
      "Requirement already satisfied: fastjsonschema in c:\\users\\andyp\\anaconda3\\envs\\vaspnest\\lib\\site-packages (from nbformat>=5.3.0->jupyter-server<3,>=2.4.0->notebook>=7->nglview->poshcar==1.0.0) (2.19.1)\n",
      "Requirement already satisfied: argon2-cffi-bindings in c:\\users\\andyp\\anaconda3\\envs\\vaspnest\\lib\\site-packages (from argon2-cffi->jupyter-server<3,>=2.4.0->notebook>=7->nglview->poshcar==1.0.0) (21.2.0)\n",
      "Requirement already satisfied: debugpy>=1.6.5 in c:\\users\\andyp\\anaconda3\\envs\\vaspnest\\lib\\site-packages (from ipykernel->jupyterlab<4.2,>=4.1.1->notebook>=7->nglview->poshcar==1.0.0) (1.6.7)\n",
      "Requirement already satisfied: nest-asyncio in c:\\users\\andyp\\anaconda3\\envs\\vaspnest\\lib\\site-packages (from ipykernel->jupyterlab<4.2,>=4.1.1->notebook>=7->nglview->poshcar==1.0.0) (1.6.0)\n",
      "Requirement already satisfied: psutil in c:\\users\\andyp\\anaconda3\\envs\\vaspnest\\lib\\site-packages (from ipykernel->jupyterlab<4.2,>=4.1.1->notebook>=7->nglview->poshcar==1.0.0) (5.9.0)\n",
      "Requirement already satisfied: webencodings in c:\\users\\andyp\\anaconda3\\envs\\vaspnest\\lib\\site-packages (from bleach!=5.0.0->nbconvert>=6.4.4->jupyter-server<3,>=2.4.0->notebook>=7->nglview->poshcar==1.0.0) (0.5.1)\n",
      "Requirement already satisfied: fqdn in c:\\users\\andyp\\anaconda3\\envs\\vaspnest\\lib\\site-packages (from jsonschema[format-nongpl]>=4.18.0->jupyter-events>=0.9.0->jupyter-server<3,>=2.4.0->notebook>=7->nglview->poshcar==1.0.0) (1.5.1)\n",
      "Requirement already satisfied: isoduration in c:\\users\\andyp\\anaconda3\\envs\\vaspnest\\lib\\site-packages (from jsonschema[format-nongpl]>=4.18.0->jupyter-events>=0.9.0->jupyter-server<3,>=2.4.0->notebook>=7->nglview->poshcar==1.0.0) (20.11.0)\n",
      "Requirement already satisfied: jsonpointer>1.13 in c:\\users\\andyp\\anaconda3\\envs\\vaspnest\\lib\\site-packages (from jsonschema[format-nongpl]>=4.18.0->jupyter-events>=0.9.0->jupyter-server<3,>=2.4.0->notebook>=7->nglview->poshcar==1.0.0) (2.4)\n",
      "Requirement already satisfied: uri-template in c:\\users\\andyp\\anaconda3\\envs\\vaspnest\\lib\\site-packages (from jsonschema[format-nongpl]>=4.18.0->jupyter-events>=0.9.0->jupyter-server<3,>=2.4.0->notebook>=7->nglview->poshcar==1.0.0) (1.3.0)\n",
      "Requirement already satisfied: webcolors>=1.11 in c:\\users\\andyp\\anaconda3\\envs\\vaspnest\\lib\\site-packages (from jsonschema[format-nongpl]>=4.18.0->jupyter-events>=0.9.0->jupyter-server<3,>=2.4.0->notebook>=7->nglview->poshcar==1.0.0) (1.13)\n",
      "Requirement already satisfied: cffi>=1.0.1 in c:\\users\\andyp\\anaconda3\\envs\\vaspnest\\lib\\site-packages (from argon2-cffi-bindings->argon2-cffi->jupyter-server<3,>=2.4.0->notebook>=7->nglview->poshcar==1.0.0) (1.16.0)\n",
      "Requirement already satisfied: soupsieve>1.2 in c:\\users\\andyp\\anaconda3\\envs\\vaspnest\\lib\\site-packages (from beautifulsoup4->nbconvert>=6.4.4->jupyter-server<3,>=2.4.0->notebook>=7->nglview->poshcar==1.0.0) (2.5)\n",
      "Requirement already satisfied: pycparser in c:\\users\\andyp\\anaconda3\\envs\\vaspnest\\lib\\site-packages (from cffi>=1.0.1->argon2-cffi-bindings->argon2-cffi->jupyter-server<3,>=2.4.0->notebook>=7->nglview->poshcar==1.0.0) (2.21)\n",
      "Requirement already satisfied: arrow>=0.15.0 in c:\\users\\andyp\\anaconda3\\envs\\vaspnest\\lib\\site-packages (from isoduration->jsonschema[format-nongpl]>=4.18.0->jupyter-events>=0.9.0->jupyter-server<3,>=2.4.0->notebook>=7->nglview->poshcar==1.0.0) (1.3.0)\n",
      "Requirement already satisfied: types-python-dateutil>=2.8.10 in c:\\users\\andyp\\anaconda3\\envs\\vaspnest\\lib\\site-packages (from arrow>=0.15.0->isoduration->jsonschema[format-nongpl]>=4.18.0->jupyter-events>=0.9.0->jupyter-server<3,>=2.4.0->notebook>=7->nglview->poshcar==1.0.0) (2.8.19.20240106)\n",
      "Installing collected packages: poshcar\n",
      "  Attempting uninstall: poshcar\n",
      "    Found existing installation: poshcar 1.0.0\n",
      "    Uninstalling poshcar-1.0.0:\n",
      "      Successfully uninstalled poshcar-1.0.0\n",
      "  Running setup.py develop for poshcar\n",
      "Successfully installed poshcar-1.0.0\n",
      "Note: you may need to restart the kernel to use updated packages.\n"
     ]
    }
   ],
   "source": [
    "pip install -e . "
   ]
  },
  {
   "cell_type": "markdown",
   "metadata": {},
   "source": [
    "## main.py: Core ancillary functions\n",
    "**Dependencies:** re, math, numpy (as np), pandas (as pd), itertools, add (from operator), deepcopy (from copy), nglview, ase<br>\n",
    "**Global variables:** VASP file line indices, text elements, Periodic table symbols, float precision<br>\n",
    "\n",
    "### Functions\n",
    "**`readfile(in_filename)`**: returns a list of strings (\"data\") read from the text file (POSCAR, CONTCAR, or *.vasp)<br>\n",
    "> `in_filename`: (*string*) path to the text file to be read\n",
    "\n",
    "**`writefile(data, out_filename)`**: writes a list of strings to a text file<br>\n",
    "> `data`: (*[string]*) POSCAR data in list form (the same applies to all the other functions)<br>\n",
    "> `out_filename`: (*string*) path to the text file to be written into\n",
    "\n",
    "**`rename(data, newname)`**: replaces the header (top line) of the POSCAR<br>\n",
    "> `newname`: (*string*) the new header\n",
    "\n",
    "**`basis(data)`**: returns basis vectors of unit cell\n",
    "\n",
    "**`printvaspdata(data)`**: displays an instance of the text"
   ]
  },
  {
   "cell_type": "code",
   "execution_count": 1,
   "metadata": {},
   "outputs": [
    {
     "data": {
      "application/vnd.jupyter.widget-view+json": {
       "model_id": "89ae09da6b8249669af84a070a21561c",
       "version_major": 2,
       "version_minor": 0
      },
      "text/plain": []
     },
     "metadata": {},
     "output_type": "display_data"
    },
    {
     "name": "stdout",
     "output_type": "stream",
     "text": [
      "Reading from file: _demo/CsPbI3.vasp\n",
      ">>>>>>>>>>>> START VASPFILE >>>>>>>>>>>>\n",
      "\n",
      "CsPbI3\n",
      "1.0\n",
      "    5.924950  0.0  0.0\n",
      "    0.0  5.924950  0.0\n",
      "    0.0  0.0  5.924950\n",
      "    I    Pb    Cs\n",
      "    3    1    1\n",
      "Direct\n",
      "    0.5  0.0  0.5\n",
      "    0.5  0.5  0.0\n",
      "    0.0  0.5  0.5\n",
      "    0.5  0.5  0.5\n",
      "    0.0  0.0  0.0\n",
      "\n",
      ">>>>>>>>>>>>> END VASPFILE >>>>>>>>>>>>>\n",
      "\n",
      ">>>>>>>>>>>> START VASPFILE >>>>>>>>>>>>\n",
      "\n",
      "Caesium Lead Iodide\n",
      "1.0\n",
      "    5.924950  0.0  0.0\n",
      "    0.0  5.924950  0.0\n",
      "    0.0  0.0  5.924950\n",
      "    I    Pb    Cs\n",
      "    3    1    1\n",
      "Direct\n",
      "    0.5  0.0  0.5\n",
      "    0.5  0.5  0.0\n",
      "    0.0  0.5  0.5\n",
      "    0.5  0.5  0.5\n",
      "    0.0  0.0  0.0\n",
      "\n",
      ">>>>>>>>>>>>> END VASPFILE >>>>>>>>>>>>>\n",
      "\n",
      "Writing to file: _demo/CsPbI3-rename.vasp\n"
     ]
    }
   ],
   "source": [
    "from poshcar import *\n",
    "data = readfile(\"_demo/CsPbI3.vasp\")\n",
    "printvaspdata(data)\n",
    "rename(data, \"Caesium Lead Iodide\")\n",
    "printvaspdata(data)\n",
    "writefile(data, \"_demo/CsPbI3-rename.vasp\")"
   ]
  },
  {
   "cell_type": "code",
   "execution_count": 2,
   "metadata": {},
   "outputs": [
    {
     "name": "stdout",
     "output_type": "stream",
     "text": [
      "Reading from file: _demo/CsPbI3.vasp\n",
      "[[5.92495 0.      0.     ]\n",
      " [0.      5.92495 0.     ]\n",
      " [0.      0.      5.92495]]\n"
     ]
    }
   ],
   "source": [
    "from poshcar import *\n",
    "data = readfile(\"_demo/CsPbI3.vasp\")\n",
    "print(basis(data))"
   ]
  },
  {
   "cell_type": "code",
   "execution_count": 3,
   "metadata": {},
   "outputs": [
    {
     "data": {
      "application/vnd.jupyter.widget-view+json": {
       "model_id": "98ced6d941584ac99f91a991a6049beb",
       "version_major": 2,
       "version_minor": 0
      },
      "text/plain": [
       "HBox(children=(NGLWidget(), VBox(children=(Dropdown(description='Show', options=('All', 'O', 'Al'), value='All…"
      ]
     },
     "execution_count": 3,
     "metadata": {},
     "output_type": "execute_result"
    }
   ],
   "source": [
    "from poshcar import *\n",
    "view(read(\"_demo/Al2O3.vasp\"), viewer='ngl')"
   ]
  },
  {
   "cell_type": "markdown",
   "metadata": {},
   "source": [
    "## elemswitch.py: Switch order of elements\n",
    "**Imports:** poshcar.seldyn\n",
    "\n",
    "### Functions\n",
    "**`elemswitch(data)`**: switches the order of elements in POSCAR (user-input)\n",
    "\n",
    "**`elemset(data, pos, Sp2, verbose = True)`**: replaces all atoms of species #pos with Sp2<br>\n",
    "> `pos`: (*int*) The ordinal number of the element to be substituted. For example, the number of Pb in Cs-Pb-I would be 2<br>\n",
    "> `Sp2`: (*string*) path to the text file to be written into"
   ]
  },
  {
   "cell_type": "code",
   "execution_count": 1,
   "metadata": {},
   "outputs": [
    {
     "data": {
      "application/vnd.jupyter.widget-view+json": {
       "model_id": "775bcc0bebab4665a1372ca7429e5282",
       "version_major": 2,
       "version_minor": 0
      },
      "text/plain": []
     },
     "metadata": {},
     "output_type": "display_data"
    },
    {
     "name": "stdout",
     "output_type": "stream",
     "text": [
      "Reading from file: _demo/CsPbI3.vasp\n",
      ">>>>>>>>>>>> START VASPFILE >>>>>>>>>>>>\n",
      "\n",
      "CsPbI3\n",
      "1.0\n",
      "    5.924950  0.0  0.0\n",
      "    0.0  5.924950  0.0\n",
      "    0.0  0.0  5.924950\n",
      "    I    Pb    Cs\n",
      "    3    1    1\n",
      "Direct\n",
      "    0.5  0.0  0.5\n",
      "    0.5  0.5  0.0\n",
      "    0.0  0.5  0.5\n",
      "    0.5  0.5  0.5\n",
      "    0.0  0.0  0.0\n",
      "\n",
      ">>>>>>>>>>>>> END VASPFILE >>>>>>>>>>>>>\n",
      "\n",
      "List of elements:    I    Pb    Cs\n",
      "Number of Atoms:    3    1    1\n",
      "=============================================\n",
      "\n"
     ]
    },
    {
     "name": "stdin",
     "output_type": "stream",
     "text": [
      "Which two elements do you want to switch?:  Cs I\n"
     ]
    },
    {
     "name": "stdout",
     "output_type": "stream",
     "text": [
      "Chosen atomic species to switch:  ['Cs', 'I']\n",
      "New Element Order:      Cs    Pb    I\n",
      "Number of Atoms:      1    1    3\n",
      ">>>>>>>>>>>> START VASPFILE >>>>>>>>>>>>\n",
      "\n",
      "CsPbI3\n",
      "1.0\n",
      "    5.924950  0.0  0.0\n",
      "    0.0  5.924950  0.0\n",
      "    0.0  0.0  5.924950\n",
      "    Cs    Pb    I\n",
      "    1    1    3\n",
      "Direct\n",
      "    0.5  0.0  0.5\n",
      "    0.5  0.5  0.0\n",
      "    0.0  0.5  0.5\n",
      "    0.5  0.5  0.5\n",
      "    0.0  0.0  0.0\n",
      "\n",
      ">>>>>>>>>>>>> END VASPFILE >>>>>>>>>>>>>\n",
      "\n",
      "Writing to file: _demo/CsPbI3-sw.vasp\n"
     ]
    }
   ],
   "source": [
    "from poshcar.elemswitch import *\n",
    "data = readfile(\"_demo/CsPbI3.vasp\")\n",
    "printvaspdata(data)\n",
    "elemswitch(data)\n",
    "printvaspdata(data)\n",
    "writefile(data, \"_demo/CsPbI3-sw.vasp\")"
   ]
  },
  {
   "cell_type": "code",
   "execution_count": 2,
   "metadata": {},
   "outputs": [
    {
     "name": "stdout",
     "output_type": "stream",
     "text": [
      "Reading from file: _demo/CsPbI3.vasp\n",
      "List of elements:    I    Pb    Cs\n",
      "3\n",
      "New Element Order:      At    Pb    Cs\n",
      ">>>>>>>>>>>> START VASPFILE >>>>>>>>>>>>\n",
      "\n",
      "CsPbI3\n",
      "1.0\n",
      "    5.924950  0.0  0.0\n",
      "    0.0  5.924950  0.0\n",
      "    0.0  0.0  5.924950\n",
      "    At    Pb    Cs\n",
      "    3    1    1\n",
      "Direct\n",
      "    0.5  0.0  0.5\n",
      "    0.5  0.5  0.0\n",
      "    0.0  0.5  0.5\n",
      "    0.5  0.5  0.5\n",
      "    0.0  0.0  0.0\n",
      "\n",
      ">>>>>>>>>>>>> END VASPFILE >>>>>>>>>>>>>\n",
      "\n",
      "Writing to file: _demo/CsPbAt3.vasp\n"
     ]
    }
   ],
   "source": [
    "from poshcar.elemswitch import *\n",
    "data = readfile(\"_demo/CsPbI3.vasp\")\n",
    "data = elemset(data, 1, \"At\")\n",
    "printvaspdata(data)\n",
    "writefile(data, \"_demo/CsPbAt3.vasp\")"
   ]
  },
  {
   "cell_type": "markdown",
   "metadata": {},
   "source": [
    "## seldyn.py: Selective Dynamics\n",
    "These functions decide if selective dynamics is switched on. When selective dynamics is switched on, the positions of certain atoms can be fixed during relaxation. It also disrupts the order of lines in the POSCAR slightly.\n",
    "\n",
    "**Imports:** poshcar\n",
    "\n",
    "### Functions\n",
    "**`is_seldyn(data)`**: returns true if selective dynamics is activated, false if otherwise\n",
    "\n",
    "**`seldynswitch(data)`**: switches selective dynamics on or off\n",
    "\n",
    "**`setflags(data, TF, setatoms)`**: Set <br>\n",
    "> `TF`: (*string*) any combination of \"(T/F)(T/F)(T/F)\" as flags<br>\n",
    "> `setatoms`: (*[int]*)"
   ]
  },
  {
   "cell_type": "code",
   "execution_count": 3,
   "metadata": {},
   "outputs": [
    {
     "name": "stdout",
     "output_type": "stream",
     "text": [
      "Reading from file: _demo/CsPbI3.vasp\n",
      ">>>>>>>>>>>> START VASPFILE >>>>>>>>>>>>\n",
      "\n",
      "CsPbI3\n",
      "1.0\n",
      "    5.924950  0.0  0.0\n",
      "    0.0  5.924950  0.0\n",
      "    0.0  0.0  5.924950\n",
      "    I    Pb    Cs\n",
      "    3    1    1\n",
      "Direct\n",
      "    0.5  0.0  0.5\n",
      "    0.5  0.5  0.0\n",
      "    0.0  0.5  0.5\n",
      "    0.5  0.5  0.5\n",
      "    0.0  0.0  0.0\n",
      "\n",
      ">>>>>>>>>>>>> END VASPFILE >>>>>>>>>>>>>\n",
      "\n",
      "Selective Dynamics is off\n",
      "\n",
      ">>>>>>>>>>>> START VASPFILE >>>>>>>>>>>>\n",
      "\n",
      "CsPbI3\n",
      "1.0\n",
      "    5.924950  0.0  0.0\n",
      "    0.0  5.924950  0.0\n",
      "    0.0  0.0  5.924950\n",
      "    I    Pb    Cs\n",
      "    3    1    1\n",
      "Selective Dynamics\n",
      "Direct\n",
      "    0.5  0.0  0.5    F F F\n",
      "    0.5  0.5  0.0    F F F\n",
      "    0.0  0.5  0.5    F F F\n",
      "    0.5  0.5  0.5    F F F\n",
      "    0.0  0.0  0.0    F F F\n",
      "\n",
      ">>>>>>>>>>>>> END VASPFILE >>>>>>>>>>>>>\n",
      "\n",
      "Selective Dynamics is on\n",
      "\n",
      "Writing to file: _demo/CsPbI3-seldyn.vasp\n",
      ">>>>>>>>>>>> START VASPFILE >>>>>>>>>>>>\n",
      "\n",
      "CsPbI3\n",
      "1.0\n",
      "    5.924950  0.0  0.0\n",
      "    0.0  5.924950  0.0\n",
      "    0.0  0.0  5.924950\n",
      "    I    Pb    Cs\n",
      "    3    1    1\n",
      "Direct\n",
      "    0.5    0.0    0.5\n",
      "    0.5    0.5    0.0\n",
      "    0.0    0.5    0.5\n",
      "    0.5    0.5    0.5\n",
      "    0.0    0.0    0.0\n",
      "\n",
      ">>>>>>>>>>>>> END VASPFILE >>>>>>>>>>>>>\n",
      "\n",
      "Writing to file: _demo/CsPbI3-seldyn-off.vasp\n"
     ]
    }
   ],
   "source": [
    "from poshcar.seldyn import *\n",
    "data = readfile(\"_demo/CsPbI3.vasp\")\n",
    "printvaspdata(data)\n",
    "if is_seldyn(data): print(\"Selective Dynamics is on\\n\")\n",
    "else: print(\"Selective Dynamics is off\\n\")\n",
    "data = seldynswitch(data) # switch it on\n",
    "printvaspdata(data)\n",
    "if is_seldyn(data): print(\"Selective Dynamics is on\\n\")\n",
    "else: print(\"Selective Dynamics is off\\n\")\n",
    "writefile(data, \"_demo/CsPbI3-seldyn.vasp\")\n",
    "data = seldynswitch(data) # switch it off again\n",
    "printvaspdata(data)\n",
    "writefile(data, \"_demo/CsPbI3-seldyn-off.vasp\")"
   ]
  },
  {
   "cell_type": "code",
   "execution_count": 4,
   "metadata": {},
   "outputs": [
    {
     "name": "stdout",
     "output_type": "stream",
     "text": [
      "Reading from file: _demo/CsPbI3.vasp\n",
      "Selective dynamics not switched on in POSCAR. Well dang, I'll switch it anyway...\n",
      "All flags set to F\n",
      ">>>>>>>>>>>> START VASPFILE >>>>>>>>>>>>\n",
      "\n",
      "CsPbI3\n",
      "1.0\n",
      "    5.924950  0.0  0.0\n",
      "    0.0  5.924950  0.0\n",
      "    0.0  0.0  5.924950\n",
      "    I    Pb    Cs\n",
      "    3    1    1\n",
      "Selective Dynamics\n",
      "Direct\n",
      "    0.5  0.0  0.5    T T F\n",
      "    0.5  0.5  0.0    F F F\n",
      "    0.0  0.5  0.5    F F F\n",
      "    0.5  0.5  0.5    F F F\n",
      "    0.0  0.0  0.0    F F F\n",
      "\n",
      ">>>>>>>>>>>>> END VASPFILE >>>>>>>>>>>>>\n",
      "\n",
      "Writing to file: _demo/CsPbI3-seldyn-setflags.vasp\n"
     ]
    }
   ],
   "source": [
    "from poshcar.seldyn import *\n",
    "data = readfile(\"_demo/CsPbI3.vasp\")\n",
    "data = setflags(data, 'TTF', [1])\n",
    "printvaspdata(data)\n",
    "writefile(data, \"_demo/CsPbI3-seldyn-setflags.vasp\")"
   ]
  },
  {
   "cell_type": "markdown",
   "metadata": {},
   "source": [
    "## cquery.py: Coordinate look-up\n",
    "This is especially useful in a large file. I include a grain boundary model (~800 atoms) as an example\n",
    "\n",
    "**Imports:** poshcar.seldyn\n",
    "\n",
    "### Functions\n",
    "**`cquery(data, atomno)`**: returns true if selective dynamics is activated, false if otherwise<br>\n",
    "> `atomno`: (*int*) index of atom to look up"
   ]
  },
  {
   "cell_type": "code",
   "execution_count": 5,
   "metadata": {},
   "outputs": [
    {
     "name": "stdout",
     "output_type": "stream",
     "text": [
      "Reading from file: _demo/GB-S2310.vasp\n",
      "Atom ID:  749  /  Al 245\n",
      "Coordinates:       0.206755012         0.802440047         0.218914002\n",
      "\n",
      "Atom ID:  750  /  Al 246\n",
      "Coordinates:       0.793245018         0.197559997         0.781085968\n",
      "\n",
      "Atom ID:  1  /  O 1\n",
      "Coordinates:       0.947574019         0.454916000         0.268278003\n",
      "\n"
     ]
    },
    {
     "data": {
      "text/plain": [
       "('O', [0.947574019, 0.454916, 0.268278003])"
      ]
     },
     "execution_count": 5,
     "metadata": {},
     "output_type": "execute_result"
    }
   ],
   "source": [
    "from poshcar.cquery import *\n",
    "data = readfile(\"_demo/GB-S2310.vasp\")\n",
    "cquery(data, 749)\n",
    "cquery(data, 750)\n",
    "cquery(data, 1)"
   ]
  },
  {
   "cell_type": "markdown",
   "metadata": {},
   "source": [
    "## cartesian.py: Cartesian Coordinates\n",
    "Switches the .vasp coordinates between Cartesian and Direct representations\n",
    "\n",
    "**Imports:** poshcar.seldyn\n",
    "\n",
    "### Functions\n",
    "**`distance(c1, c2)`**: (*float*) returns distance between two points in cartesian coordinates<br>\n",
    "> `c1`, `c2`: (*[float]*) coordinates of two points<br>\n",
    "\n",
    "**`vector(c1, c2)`**: (*float*) returns difference between two points in cartesian coordinates (**b**-**a**)<br>\n",
    "> `c1`, `c2`: (*[float]*) coordinates of two points<br>\n",
    "\n",
    "**`is_cart(data)`**: (*[bool]*) returns True if Cartesian coordinates, False if direct coordinates<br>\n",
    "\n",
    "**`switchcart(data)`**: returns *data* in Cartesian if input is direct (the vice versa is not yet implemented)\n",
    "\n",
    "**`translate(data, vector)`**: translates all atomic positions by vector<br>\n",
    "> `vector`: (*[int]*) vector (cartesian coordinates) to move atoms)"
   ]
  },
  {
   "cell_type": "code",
   "execution_count": 6,
   "metadata": {},
   "outputs": [
    {
     "name": "stdout",
     "output_type": "stream",
     "text": [
      "Distance between [0,0,1] and [1,0,0]:  1.4142135623730951 \n",
      "\n",
      "Vector between [0,0,1] and [1,0,0]:  [ 1  0 -1] \n",
      "\n"
     ]
    }
   ],
   "source": [
    "from poshcar.cartesian import *\n",
    "print(\"Distance between [0,0,1] and [1,0,0]: \", distance([0,0,1],[1,0,0]), \"\\n\")\n",
    "print(\"Vector between [0,0,1] and [1,0,0]: \", vector([0,0,1],[1,0,0]), \"\\n\")"
   ]
  },
  {
   "cell_type": "code",
   "execution_count": 7,
   "metadata": {},
   "outputs": [
    {
     "name": "stdout",
     "output_type": "stream",
     "text": [
      "Reading from file: _demo/CsPbI3.vasp\n",
      "Direct\n",
      ">>>>>>>>>>>> START VASPFILE >>>>>>>>>>>>\n",
      "\n",
      "CsPbI3\n",
      "1.0\n",
      "    5.924950  0.0  0.0\n",
      "    0.0  5.924950  0.0\n",
      "    0.0  0.0  5.924950\n",
      "    I    Pb    Cs\n",
      "    3    1    1\n",
      "Direct\n",
      "    0.5  0.0  0.5\n",
      "    0.5  0.5  0.0\n",
      "    0.0  0.5  0.5\n",
      "    0.5  0.5  0.5\n",
      "    0.0  0.0  0.0\n",
      "\n",
      ">>>>>>>>>>>>> END VASPFILE >>>>>>>>>>>>>\n",
      "\n",
      "Converting: Fractional > Cartesian\n",
      "Cartesian\n",
      ">>>>>>>>>>>> START VASPFILE >>>>>>>>>>>>\n",
      "\n",
      "CsPbI3\n",
      "1.0\n",
      "    5.924950  0.0  0.0\n",
      "    0.0  5.924950  0.0\n",
      "    0.0  0.0  5.924950\n",
      "    I    Pb    Cs\n",
      "    3    1    1\n",
      "Cartesian\n",
      "       2.962475       0.000000       2.962475\n",
      "       2.962475       2.962475       0.000000\n",
      "       0.000000       2.962475       2.962475\n",
      "       2.962475       2.962475       2.962475\n",
      "       0.000000       0.000000       0.000000\n",
      "\n",
      ">>>>>>>>>>>>> END VASPFILE >>>>>>>>>>>>>\n",
      "\n",
      "Writing to file: _demo/CsPbI3-cartesian.vasp\n",
      "Reading from file: _demo/CsPbI3-cartesian1.vasp\n",
      ">>>>>>>>>>>> START VASPFILE >>>>>>>>>>>>\n",
      "\n",
      "CsPbI3\n",
      "1.0\n",
      "    5.924950  0.0  0.0\n",
      "    0.0  5.924950  0.0\n",
      "    0.0  0.0  5.924950\n",
      "    I    Pb    Cs\n",
      "    3    1    1\n",
      "Cartesian\n",
      "     2.962475       5.924950       2.962475\n",
      "     2.962475       2.962475       0.000000\n",
      "     5.924950       2.962475       2.962475\n",
      "     2.962475       2.962475       2.962475\n",
      "     5.924950       5.924950       5.924950\n",
      "\n",
      ">>>>>>>>>>>>> END VASPFILE >>>>>>>>>>>>>\n",
      "\n",
      "Converting: Cartesian > Fractional\n",
      "Direct\n",
      ">>>>>>>>>>>> START VASPFILE >>>>>>>>>>>>\n",
      "\n",
      "CsPbI3\n",
      "1.0\n",
      "    5.924950  0.0  0.0\n",
      "    0.0  5.924950  0.0\n",
      "    0.0  0.0  5.924950\n",
      "    I    Pb    Cs\n",
      "    3    1    1\n",
      "Direct\n",
      "       0.500000       0.000000       0.500000\n",
      "       0.500000       0.500000       0.000000\n",
      "       0.000000       0.500000       0.500000\n",
      "       0.500000       0.500000       0.500000\n",
      "       0.000000       0.000000       0.000000\n",
      "\n",
      ">>>>>>>>>>>>> END VASPFILE >>>>>>>>>>>>>\n",
      "\n"
     ]
    }
   ],
   "source": [
    "from poshcar.cartesian import *\n",
    "\n",
    "# Fractional to Cartesian\n",
    "data = readfile(\"_demo/CsPbI3.vasp\")\n",
    "print(\"Cartesian\" if is_cart(data) else \"Direct\")\n",
    "printvaspdata(data)\n",
    "data = switchcart(data)\n",
    "print(\"Cartesian\" if is_cart(data) else \"Direct\")\n",
    "printvaspdata(data)\n",
    "writefile(data, \"_demo/CsPbI3-cartesian.vasp\")\n",
    "\n",
    "# Cartesian to Fractional\n",
    "data = readfile(\"_demo/CsPbI3-cartesian1.vasp\")\n",
    "printvaspdata(data)\n",
    "data = switchcart(data)\n",
    "print(\"Cartesian\" if is_cart(data) else \"Direct\")\n",
    "printvaspdata(data)"
   ]
  },
  {
   "cell_type": "code",
   "execution_count": null,
   "metadata": {},
   "outputs": [],
   "source": []
  }
 ],
 "metadata": {
  "kernelspec": {
   "display_name": "Python 3 (ipykernel)",
   "language": "python",
   "name": "python3"
  },
  "language_info": {
   "codemirror_mode": {
    "name": "ipython",
    "version": 3
   },
   "file_extension": ".py",
   "mimetype": "text/x-python",
   "name": "python",
   "nbconvert_exporter": "python",
   "pygments_lexer": "ipython3",
   "version": "3.10.13"
  }
 },
 "nbformat": 4,
 "nbformat_minor": 4
}
