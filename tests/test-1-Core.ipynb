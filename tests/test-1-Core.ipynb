{
 "cells": [
  {
   "cell_type": "markdown",
   "metadata": {},
   "source": [
    "# POSHCAR DEMO No. 1: The Basics\n",
    "\n",
    "## main.py: Core ancillary functions\n",
    "**Dependencies:** re, math, numpy (as np), pandas (as pd), itertools, add (from operator), deepcopy (from copy), nglview, ase<br>\n",
    "**Global variables:** VASP file line indices, text elements, Periodic table symbols, float precision<br>\n",
    "\n",
    "### Functions\n",
    "**`readfile(in_filename)`**: returns a list of strings (\"data\") read from the text file (POSCAR, CONTCAR, or *.vasp)<br>\n",
    "> `in_filename`: (*string*) path to the text file to be read\n",
    "\n",
    "**`writefile(data, out_filename)`**: writes a list of strings to a text file<br>\n",
    "> `data`: (*[string]*) POSCAR data in list form (the same applies to all the other functions)<br>\n",
    "> `out_filename`: (*string*) path to the text file to be written into\n",
    "\n",
    "**`rename(data, newname)`**: replaces the header (top line) of the POSCAR<br>\n",
    "> `newname`: (*string*) the new header\n",
    "\n",
    "**`Basis(data)`**: returns basis vectors of unit cell\n",
    "\n",
    "**`printvaspdata(data)`**: displays an instance of the text"
   ]
  },
  {
   "cell_type": "code",
   "execution_count": 1,
   "metadata": {},
   "outputs": [
    {
     "name": "stdout",
     "output_type": "stream",
     "text": [
      "Reading from file: _demo/CsPbI3.vasp\n",
      ">>>>>>>>>>>> START VASPFILE >>>>>>>>>>>>\n",
      "\n",
      "CsPbI3\n",
      "1.0\n",
      "    5.924950  0.0  0.0\n",
      "    0.0  5.924950  0.0\n",
      "    0.0  0.0  5.924950\n",
      "    I    Pb    Cs\n",
      "    3    1    1\n",
      "Direct\n",
      "    0.5  0.0  0.5\n",
      "    0.5  0.5  0.0\n",
      "    0.0  0.5  0.5\n",
      "    0.5  0.5  0.5\n",
      "    0.0  0.0  0.0\n",
      "\n",
      ">>>>>>>>>>>>> END VASPFILE >>>>>>>>>>>>>\n",
      "\n",
      ">>>>>>>>>>>> START VASPFILE >>>>>>>>>>>>\n",
      "\n",
      "Caesium Lead Iodide\n",
      "1.0\n",
      "    5.924950  0.0  0.0\n",
      "    0.0  5.924950  0.0\n",
      "    0.0  0.0  5.924950\n",
      "    I    Pb    Cs\n",
      "    3    1    1\n",
      "Direct\n",
      "    0.5  0.0  0.5\n",
      "    0.5  0.5  0.0\n",
      "    0.0  0.5  0.5\n",
      "    0.5  0.5  0.5\n",
      "    0.0  0.0  0.0\n",
      "\n",
      ">>>>>>>>>>>>> END VASPFILE >>>>>>>>>>>>>\n",
      "\n",
      "Writing to file: _demo/CsPbI3-rename.vasp\n"
     ]
    }
   ],
   "source": [
    "from Poshcar import *\n",
    "data = readfile(\"_demo/CsPbI3.vasp\")\n",
    "printvaspdata(data)\n",
    "rename(data, \"Caesium Lead Iodide\")\n",
    "printvaspdata(data)\n",
    "writefile(data, \"_demo/CsPbI3-rename.vasp\")"
   ]
  },
  {
   "cell_type": "code",
   "execution_count": 7,
   "metadata": {},
   "outputs": [
    {
     "name": "stdout",
     "output_type": "stream",
     "text": [
      "Reading from file: _demo/CsPbI3.vasp\n",
      "[[5.92495 0.      0.     ]\n",
      " [0.      5.92495 0.     ]\n",
      " [0.      0.      5.92495]]\n"
     ]
    }
   ],
   "source": [
    "from Poshcar import *\n",
    "data = readfile(\"_demo/CsPbI3.vasp\")\n",
    "print(Basis(data))"
   ]
  },
  {
   "cell_type": "code",
   "execution_count": 7,
   "metadata": {},
   "outputs": [
    {
     "data": {
      "application/vnd.jupyter.widget-view+json": {
       "model_id": "6141342f5fcd4f45a324088ae08a93c7",
       "version_major": 2,
       "version_minor": 0
      },
      "text/plain": []
     },
     "metadata": {},
     "output_type": "display_data"
    },
    {
     "data": {
      "application/vnd.jupyter.widget-view+json": {
       "model_id": "19dcaf6343864c2592823a760ade249a",
       "version_major": 2,
       "version_minor": 0
      },
      "text/plain": [
       "HBox(children=(NGLWidget(), VBox(children=(Dropdown(description='Show', options=('All', 'Al', 'O'), value='All…"
      ]
     },
     "execution_count": 7,
     "metadata": {},
     "output_type": "execute_result"
    }
   ],
   "source": [
    "import nglview\n",
    "from ase.io import read\n",
    "from ase.visualize import view\n",
    "view(read(\"_demo/Al2O3.vasp\"), viewer='ngl')"
   ]
  },
  {
   "cell_type": "markdown",
   "metadata": {},
   "source": [
    "## ElemSwitch.py: Switch order of elements\n",
    "### Functions\n",
    "**`ElemSwitch(data)`**: switches the order of elements in POSCAR (user-input)\n",
    "\n",
    "**`ElemSet(data, pos, Sp2)`**: replaces all atoms of species #pos with Sp2<br>\n",
    "> `pos`: (*int*) The ordinal number of the element to be substituted. For example, the number of Pb in Cs-Pb-I would be 2<br>\n",
    "> `Sp2`: (*string*) path to the text file to be written into"
   ]
  },
  {
   "cell_type": "code",
   "execution_count": 13,
   "metadata": {},
   "outputs": [
    {
     "name": "stdout",
     "output_type": "stream",
     "text": [
      "Collecting git+https://github.com/andypaulchen/Poshcar.git\n",
      "  Cloning https://github.com/andypaulchen/Poshcar.git to c:\\users\\andyp\\appdata\\local\\temp\\pip-req-build-hqj6s_7o\n",
      "  Resolved https://github.com/andypaulchen/Poshcar.git to commit 76e9dadb0417d34ee4520941f9c8ce34a8fbe38a\n",
      "  Preparing metadata (setup.py): started\n",
      "  Preparing metadata (setup.py): finished with status 'done'\n",
      "Requirement already satisfied: ase in c:\\users\\andyp\\anaconda3\\envs\\vaspnest\\lib\\site-packages (from poshcar==1.0.0) (3.22.1)\n",
      "Requirement already satisfied: pyvis in c:\\users\\andyp\\anaconda3\\envs\\vaspnest\\lib\\site-packages (from poshcar==1.0.0) (0.3.2)\n",
      "Requirement already satisfied: rdkit in c:\\users\\andyp\\anaconda3\\envs\\vaspnest\\lib\\site-packages (from poshcar==1.0.0) (2023.9.5)\n",
      "Requirement already satisfied: scipy in c:\\users\\andyp\\anaconda3\\envs\\vaspnest\\lib\\site-packages (from poshcar==1.0.0) (1.12.0)\n",
      "Requirement already satisfied: pymatgen in c:\\users\\andyp\\anaconda3\\envs\\vaspnest\\lib\\site-packages (from poshcar==1.0.0) (2024.4.13)\n",
      "Requirement already satisfied: chgnet in c:\\users\\andyp\\anaconda3\\envs\\vaspnest\\lib\\site-packages (from poshcar==1.0.0) (0.3.4)\n",
      "Requirement already satisfied: matplotlib>=3.1.0 in c:\\users\\andyp\\anaconda3\\envs\\vaspnest\\lib\\site-packages (from ase->poshcar==1.0.0) (3.8.3)\n",
      "Requirement already satisfied: numpy>=1.15.0 in c:\\users\\andyp\\anaconda3\\envs\\vaspnest\\lib\\site-packages (from ase->poshcar==1.0.0) (1.26.4)\n",
      "Requirement already satisfied: cython>=0.29.26 in c:\\users\\andyp\\anaconda3\\envs\\vaspnest\\lib\\site-packages (from chgnet->poshcar==1.0.0) (3.0.8)\n",
      "Requirement already satisfied: nvidia-ml-py3>=7.352.0 in c:\\users\\andyp\\anaconda3\\envs\\vaspnest\\lib\\site-packages (from chgnet->poshcar==1.0.0) (7.352.0)\n",
      "Requirement already satisfied: torch>=1.11.0 in c:\\users\\andyp\\anaconda3\\envs\\vaspnest\\lib\\site-packages (from chgnet->poshcar==1.0.0) (2.2.1)\n",
      "Requirement already satisfied: monty>=2024.2.2 in c:\\users\\andyp\\anaconda3\\envs\\vaspnest\\lib\\site-packages (from pymatgen->poshcar==1.0.0) (2024.2.26)\n",
      "Requirement already satisfied: networkx>=2.2 in c:\\users\\andyp\\anaconda3\\envs\\vaspnest\\lib\\site-packages (from pymatgen->poshcar==1.0.0) (3.2.1)\n",
      "Requirement already satisfied: palettable>=3.1.1 in c:\\users\\andyp\\anaconda3\\envs\\vaspnest\\lib\\site-packages (from pymatgen->poshcar==1.0.0) (3.3.3)\n",
      "Requirement already satisfied: pandas in c:\\users\\andyp\\anaconda3\\envs\\vaspnest\\lib\\site-packages (from pymatgen->poshcar==1.0.0) (2.2.1)\n",
      "Requirement already satisfied: plotly>=4.5.0 in c:\\users\\andyp\\anaconda3\\envs\\vaspnest\\lib\\site-packages (from pymatgen->poshcar==1.0.0) (5.19.0)\n",
      "Requirement already satisfied: pybtex in c:\\users\\andyp\\anaconda3\\envs\\vaspnest\\lib\\site-packages (from pymatgen->poshcar==1.0.0) (0.24.0)\n",
      "Requirement already satisfied: requests in c:\\users\\andyp\\anaconda3\\envs\\vaspnest\\lib\\site-packages (from pymatgen->poshcar==1.0.0) (2.31.0)\n",
      "Requirement already satisfied: ruamel.yaml>=0.17.0 in c:\\users\\andyp\\anaconda3\\envs\\vaspnest\\lib\\site-packages (from pymatgen->poshcar==1.0.0) (0.17.40)\n",
      "Requirement already satisfied: spglib>=2.0.2 in c:\\users\\andyp\\anaconda3\\envs\\vaspnest\\lib\\site-packages (from pymatgen->poshcar==1.0.0) (2.3.1)\n",
      "Requirement already satisfied: sympy in c:\\users\\andyp\\anaconda3\\envs\\vaspnest\\lib\\site-packages (from pymatgen->poshcar==1.0.0) (1.12)\n",
      "Requirement already satisfied: tabulate in c:\\users\\andyp\\anaconda3\\envs\\vaspnest\\lib\\site-packages (from pymatgen->poshcar==1.0.0) (0.9.0)\n",
      "Requirement already satisfied: tqdm in c:\\users\\andyp\\anaconda3\\envs\\vaspnest\\lib\\site-packages (from pymatgen->poshcar==1.0.0) (4.66.2)\n",
      "Requirement already satisfied: uncertainties>=3.1.4 in c:\\users\\andyp\\anaconda3\\envs\\vaspnest\\lib\\site-packages (from pymatgen->poshcar==1.0.0) (3.1.7)\n",
      "Requirement already satisfied: joblib in c:\\users\\andyp\\anaconda3\\envs\\vaspnest\\lib\\site-packages (from pymatgen->poshcar==1.0.0) (1.3.2)\n",
      "Requirement already satisfied: ipython>=5.3.0 in c:\\users\\andyp\\anaconda3\\envs\\vaspnest\\lib\\site-packages (from pyvis->poshcar==1.0.0) (8.20.0)\n",
      "Requirement already satisfied: jinja2>=2.9.6 in c:\\users\\andyp\\anaconda3\\envs\\vaspnest\\lib\\site-packages (from pyvis->poshcar==1.0.0) (3.1.3)\n",
      "Requirement already satisfied: jsonpickle>=1.4.1 in c:\\users\\andyp\\anaconda3\\envs\\vaspnest\\lib\\site-packages (from pyvis->poshcar==1.0.0) (3.0.3)\n",
      "Requirement already satisfied: Pillow in c:\\users\\andyp\\anaconda3\\envs\\vaspnest\\lib\\site-packages (from rdkit->poshcar==1.0.0) (10.2.0)\n",
      "Requirement already satisfied: decorator in c:\\users\\andyp\\anaconda3\\envs\\vaspnest\\lib\\site-packages (from ipython>=5.3.0->pyvis->poshcar==1.0.0) (5.1.1)\n",
      "Requirement already satisfied: jedi>=0.16 in c:\\users\\andyp\\anaconda3\\envs\\vaspnest\\lib\\site-packages (from ipython>=5.3.0->pyvis->poshcar==1.0.0) (0.18.1)\n",
      "Requirement already satisfied: matplotlib-inline in c:\\users\\andyp\\anaconda3\\envs\\vaspnest\\lib\\site-packages (from ipython>=5.3.0->pyvis->poshcar==1.0.0) (0.1.6)\n",
      "Requirement already satisfied: prompt-toolkit<3.1.0,>=3.0.41 in c:\\users\\andyp\\anaconda3\\envs\\vaspnest\\lib\\site-packages (from ipython>=5.3.0->pyvis->poshcar==1.0.0) (3.0.43)\n",
      "Requirement already satisfied: pygments>=2.4.0 in c:\\users\\andyp\\anaconda3\\envs\\vaspnest\\lib\\site-packages (from ipython>=5.3.0->pyvis->poshcar==1.0.0) (2.17.2)\n",
      "Requirement already satisfied: stack-data in c:\\users\\andyp\\anaconda3\\envs\\vaspnest\\lib\\site-packages (from ipython>=5.3.0->pyvis->poshcar==1.0.0) (0.2.0)\n",
      "Requirement already satisfied: traitlets>=5 in c:\\users\\andyp\\anaconda3\\envs\\vaspnest\\lib\\site-packages (from ipython>=5.3.0->pyvis->poshcar==1.0.0) (5.7.1)\n",
      "Requirement already satisfied: exceptiongroup in c:\\users\\andyp\\anaconda3\\envs\\vaspnest\\lib\\site-packages (from ipython>=5.3.0->pyvis->poshcar==1.0.0) (1.2.0)\n",
      "Requirement already satisfied: colorama in c:\\users\\andyp\\anaconda3\\envs\\vaspnest\\lib\\site-packages (from ipython>=5.3.0->pyvis->poshcar==1.0.0) (0.4.6)\n",
      "Requirement already satisfied: MarkupSafe>=2.0 in c:\\users\\andyp\\anaconda3\\envs\\vaspnest\\lib\\site-packages (from jinja2>=2.9.6->pyvis->poshcar==1.0.0) (2.1.5)\n",
      "Requirement already satisfied: contourpy>=1.0.1 in c:\\users\\andyp\\anaconda3\\envs\\vaspnest\\lib\\site-packages (from matplotlib>=3.1.0->ase->poshcar==1.0.0) (1.2.0)\n",
      "Requirement already satisfied: cycler>=0.10 in c:\\users\\andyp\\anaconda3\\envs\\vaspnest\\lib\\site-packages (from matplotlib>=3.1.0->ase->poshcar==1.0.0) (0.12.1)\n",
      "Requirement already satisfied: fonttools>=4.22.0 in c:\\users\\andyp\\anaconda3\\envs\\vaspnest\\lib\\site-packages (from matplotlib>=3.1.0->ase->poshcar==1.0.0) (4.49.0)\n",
      "Requirement already satisfied: kiwisolver>=1.3.1 in c:\\users\\andyp\\anaconda3\\envs\\vaspnest\\lib\\site-packages (from matplotlib>=3.1.0->ase->poshcar==1.0.0) (1.4.5)\n",
      "Requirement already satisfied: packaging>=20.0 in c:\\users\\andyp\\anaconda3\\envs\\vaspnest\\lib\\site-packages (from matplotlib>=3.1.0->ase->poshcar==1.0.0) (23.2)\n",
      "Requirement already satisfied: pyparsing>=2.3.1 in c:\\users\\andyp\\anaconda3\\envs\\vaspnest\\lib\\site-packages (from matplotlib>=3.1.0->ase->poshcar==1.0.0) (3.1.1)\n",
      "Requirement already satisfied: python-dateutil>=2.7 in c:\\users\\andyp\\anaconda3\\envs\\vaspnest\\lib\\site-packages (from matplotlib>=3.1.0->ase->poshcar==1.0.0) (2.8.2)\n",
      "Requirement already satisfied: tenacity>=6.2.0 in c:\\users\\andyp\\anaconda3\\envs\\vaspnest\\lib\\site-packages (from plotly>=4.5.0->pymatgen->poshcar==1.0.0) (8.2.3)\n",
      "Requirement already satisfied: ruamel.yaml.clib>=0.2.7 in c:\\users\\andyp\\anaconda3\\envs\\vaspnest\\lib\\site-packages (from ruamel.yaml>=0.17.0->pymatgen->poshcar==1.0.0) (0.2.8)\n",
      "Requirement already satisfied: filelock in c:\\users\\andyp\\anaconda3\\envs\\vaspnest\\lib\\site-packages (from torch>=1.11.0->chgnet->poshcar==1.0.0) (3.13.1)\n",
      "Requirement already satisfied: typing-extensions>=4.8.0 in c:\\users\\andyp\\anaconda3\\envs\\vaspnest\\lib\\site-packages (from torch>=1.11.0->chgnet->poshcar==1.0.0) (4.9.0)\n",
      "Requirement already satisfied: fsspec in c:\\users\\andyp\\anaconda3\\envs\\vaspnest\\lib\\site-packages (from torch>=1.11.0->chgnet->poshcar==1.0.0) (2024.2.0)\n",
      "Requirement already satisfied: future in c:\\users\\andyp\\anaconda3\\envs\\vaspnest\\lib\\site-packages (from uncertainties>=3.1.4->pymatgen->poshcar==1.0.0) (1.0.0)\n",
      "Requirement already satisfied: pytz>=2020.1 in c:\\users\\andyp\\anaconda3\\envs\\vaspnest\\lib\\site-packages (from pandas->pymatgen->poshcar==1.0.0) (2024.1)\n",
      "Requirement already satisfied: tzdata>=2022.7 in c:\\users\\andyp\\anaconda3\\envs\\vaspnest\\lib\\site-packages (from pandas->pymatgen->poshcar==1.0.0) (2024.1)\n",
      "Requirement already satisfied: PyYAML>=3.01 in c:\\users\\andyp\\anaconda3\\envs\\vaspnest\\lib\\site-packages (from pybtex->pymatgen->poshcar==1.0.0) (6.0.1)\n",
      "Requirement already satisfied: latexcodec>=1.0.4 in c:\\users\\andyp\\anaconda3\\envs\\vaspnest\\lib\\site-packages (from pybtex->pymatgen->poshcar==1.0.0) (2.0.1)\n",
      "Requirement already satisfied: six in c:\\users\\andyp\\anaconda3\\envs\\vaspnest\\lib\\site-packages (from pybtex->pymatgen->poshcar==1.0.0) (1.16.0)\n",
      "Requirement already satisfied: charset-normalizer<4,>=2 in c:\\users\\andyp\\anaconda3\\envs\\vaspnest\\lib\\site-packages (from requests->pymatgen->poshcar==1.0.0) (3.3.2)\n",
      "Requirement already satisfied: idna<4,>=2.5 in c:\\users\\andyp\\anaconda3\\envs\\vaspnest\\lib\\site-packages (from requests->pymatgen->poshcar==1.0.0) (3.6)\n",
      "Requirement already satisfied: urllib3<3,>=1.21.1 in c:\\users\\andyp\\anaconda3\\envs\\vaspnest\\lib\\site-packages (from requests->pymatgen->poshcar==1.0.0) (2.0.7)\n",
      "Requirement already satisfied: certifi>=2017.4.17 in c:\\users\\andyp\\anaconda3\\envs\\vaspnest\\lib\\site-packages (from requests->pymatgen->poshcar==1.0.0) (2024.8.30)\n",
      "Requirement already satisfied: mpmath>=0.19 in c:\\users\\andyp\\anaconda3\\envs\\vaspnest\\lib\\site-packages (from sympy->pymatgen->poshcar==1.0.0) (1.3.0)\n",
      "Requirement already satisfied: parso<0.9.0,>=0.8.0 in c:\\users\\andyp\\anaconda3\\envs\\vaspnest\\lib\\site-packages (from jedi>=0.16->ipython>=5.3.0->pyvis->poshcar==1.0.0) (0.8.3)\n",
      "Requirement already satisfied: wcwidth in c:\\users\\andyp\\anaconda3\\envs\\vaspnest\\lib\\site-packages (from prompt-toolkit<3.1.0,>=3.0.41->ipython>=5.3.0->pyvis->poshcar==1.0.0) (0.2.5)\n",
      "Requirement already satisfied: executing in c:\\users\\andyp\\anaconda3\\envs\\vaspnest\\lib\\site-packages (from stack-data->ipython>=5.3.0->pyvis->poshcar==1.0.0) (0.8.3)\n",
      "Requirement already satisfied: asttokens in c:\\users\\andyp\\anaconda3\\envs\\vaspnest\\lib\\site-packages (from stack-data->ipython>=5.3.0->pyvis->poshcar==1.0.0) (2.0.5)\n",
      "Requirement already satisfied: pure-eval in c:\\users\\andyp\\anaconda3\\envs\\vaspnest\\lib\\site-packages (from stack-data->ipython>=5.3.0->pyvis->poshcar==1.0.0) (0.2.2)\n",
      "Note: you may need to restart the kernel to use updated packages.\n"
     ]
    },
    {
     "name": "stderr",
     "output_type": "stream",
     "text": [
      "  Running command git clone --filter=blob:none --quiet https://github.com/andypaulchen/Poshcar.git 'C:\\Users\\andyp\\AppData\\Local\\Temp\\pip-req-build-hqj6s_7o'\n"
     ]
    }
   ],
   "source": [
    "pip install git+https://github.com/andypaulchen/Poshcar.git"
   ]
  },
  {
   "cell_type": "code",
   "execution_count": 11,
   "metadata": {},
   "outputs": [
    {
     "data": {
      "text/plain": [
       "['Basis',\n",
       " 'Periodic_Table',\n",
       " '__builtins__',\n",
       " '__cached__',\n",
       " '__copyright__',\n",
       " '__date__',\n",
       " '__doc__',\n",
       " '__email__',\n",
       " '__file__',\n",
       " '__loader__',\n",
       " '__maintainer__',\n",
       " '__name__',\n",
       " '__package__',\n",
       " '__path__',\n",
       " '__spec__',\n",
       " '__status__',\n",
       " '__version__',\n",
       " 'add',\n",
       " 'atom_name_index',\n",
       " 'atom_number_index',\n",
       " 'deepcopy',\n",
       " 'flpr',\n",
       " 'horizont',\n",
       " 'itertools',\n",
       " 'lls',\n",
       " 'longspace',\n",
       " 'ls',\n",
       " 'main',\n",
       " 'math',\n",
       " 'np',\n",
       " 'pd',\n",
       " 'printvaspdata',\n",
       " 're',\n",
       " 'read',\n",
       " 'readfile',\n",
       " 'rename',\n",
       " 'view',\n",
       " 'writefile']"
      ]
     },
     "execution_count": 11,
     "metadata": {},
     "output_type": "execute_result"
    }
   ],
   "source": [
    "import Poshcar\n",
    "dir(Poshcar)"
   ]
  },
  {
   "cell_type": "code",
   "execution_count": 6,
   "metadata": {},
   "outputs": [
    {
     "name": "stdout",
     "output_type": "stream",
     "text": [
      "Reading from file: _demo/CsPbI3.vasp\n",
      ">>>>>>>>>>>> START VASPFILE >>>>>>>>>>>>\n",
      "\n",
      "CsPbI3\n",
      "1.0\n",
      "    5.924950  0.0  0.0\n",
      "    0.0  5.924950  0.0\n",
      "    0.0  0.0  5.924950\n",
      "    I    Pb    Cs\n",
      "    3    1    1\n",
      "Direct\n",
      "    0.5  0.0  0.5\n",
      "    0.5  0.5  0.0\n",
      "    0.0  0.5  0.5\n",
      "    0.5  0.5  0.5\n",
      "    0.0  0.0  0.0\n",
      "\n",
      ">>>>>>>>>>>>> END VASPFILE >>>>>>>>>>>>>\n",
      "\n"
     ]
    },
    {
     "ename": "NameError",
     "evalue": "name 'ElemSwitch' is not defined",
     "output_type": "error",
     "traceback": [
      "\u001b[1;31m---------------------------------------------------------------------------\u001b[0m",
      "\u001b[1;31mNameError\u001b[0m                                 Traceback (most recent call last)",
      "Cell \u001b[1;32mIn[6], line 4\u001b[0m\n\u001b[0;32m      2\u001b[0m data \u001b[38;5;241m=\u001b[39m readfile(\u001b[38;5;124m\"\u001b[39m\u001b[38;5;124m_demo/CsPbI3.vasp\u001b[39m\u001b[38;5;124m\"\u001b[39m)\n\u001b[0;32m      3\u001b[0m printvaspdata(data)\n\u001b[1;32m----> 4\u001b[0m \u001b[43mElemSwitch\u001b[49m(data)\n\u001b[0;32m      5\u001b[0m printvaspdata(data)\n\u001b[0;32m      6\u001b[0m writefile(data, \u001b[38;5;124m\"\u001b[39m\u001b[38;5;124m_demo/CsPbI3-sw.vasp\u001b[39m\u001b[38;5;124m\"\u001b[39m)\n",
      "\u001b[1;31mNameError\u001b[0m: name 'ElemSwitch' is not defined"
     ]
    }
   ],
   "source": [
    "from Poshcar import *\n",
    "data = readfile(\"_demo/CsPbI3.vasp\")\n",
    "printvaspdata(data)\n",
    "ElemSwitch(data)\n",
    "printvaspdata(data)\n",
    "writefile(data, \"_demo/CsPbI3-sw.vasp\")"
   ]
  },
  {
   "cell_type": "code",
   "execution_count": 2,
   "metadata": {},
   "outputs": [
    {
     "name": "stdout",
     "output_type": "stream",
     "text": [
      "Reading from file: _demo/CsPbI3.vasp\n",
      "List of elements:    I    Pb    Cs\n",
      "3\n",
      "New Element Order:      At    Pb    Cs\n",
      ">>>>>>>>>>>> START VASPFILE >>>>>>>>>>>>\n",
      "\n",
      "CsPbI3\n",
      "1.0\n",
      "    5.924950  0.0  0.0\n",
      "    0.0  5.924950  0.0\n",
      "    0.0  0.0  5.924950\n",
      "    At    Pb    Cs\n",
      "    3    1    1\n",
      "Direct\n",
      "    0.5  0.0  0.5\n",
      "    0.5  0.5  0.0\n",
      "    0.0  0.5  0.5\n",
      "    0.5  0.5  0.5\n",
      "    0.0  0.0  0.0\n",
      "\n",
      ">>>>>>>>>>>>> END VASPFILE >>>>>>>>>>>>>\n",
      "\n",
      "Writing to file: _demo/CsPbAt3.vasp\n"
     ]
    }
   ],
   "source": [
    "from ElemSwitch import *\n",
    "data = readfile(\"_demo/CsPbI3.vasp\")\n",
    "data = ElemSet(data, 1, \"At\")\n",
    "printvaspdata(data)\n",
    "writefile(data, \"_demo/CsPbAt3.vasp\")"
   ]
  },
  {
   "cell_type": "markdown",
   "metadata": {},
   "source": [
    "## Seldyn.py: Selective Dynamics\n",
    "These functions decide if selective dynamics is switched on. When selective dynamics is switched on, the positions of certain atoms can be fixed during relaxation. It also disrupts the order of lines in the POSCAR slightly.\n",
    "\n",
    "### Functions\n",
    "**`isSeldyn(data)`**: returns true if selective dynamics is activated, false if otherwise\n",
    "\n",
    "**`SeldynSwitch(data)`**: switches selective dynamics on or off\n",
    "\n",
    "**`SetFlags(data, TF, setatoms)`**: Set <br>\n",
    "> `TF`: (*string*) any combination of \"(T/F)(T/F)(T/F)\" as flags<br>\n",
    "> `setatoms`: (*[int]*)"
   ]
  },
  {
   "cell_type": "code",
   "execution_count": 5,
   "metadata": {},
   "outputs": [
    {
     "name": "stdout",
     "output_type": "stream",
     "text": [
      "Reading from file: _demo/CsPbI3.vasp\n",
      ">>>>>>>>>>>> START VASPFILE >>>>>>>>>>>>\n",
      "\n",
      "CsPbI3\n",
      "1.0\n",
      "    5.924950  0.0  0.0\n",
      "    0.0  5.924950  0.0\n",
      "    0.0  0.0  5.924950\n",
      "    I    Pb    Cs\n",
      "    3    1    1\n",
      "Direct\n",
      "    0.5  0.0  0.5\n",
      "    0.5  0.5  0.0\n",
      "    0.0  0.5  0.5\n",
      "    0.5  0.5  0.5\n",
      "    0.0  0.0  0.0\n",
      "\n",
      ">>>>>>>>>>>>> END VASPFILE >>>>>>>>>>>>>\n",
      "\n",
      "Selective Dynamics is off\n",
      "\n",
      ">>>>>>>>>>>> START VASPFILE >>>>>>>>>>>>\n",
      "\n",
      "CsPbI3\n",
      "1.0\n",
      "    5.924950  0.0  0.0\n",
      "    0.0  5.924950  0.0\n",
      "    0.0  0.0  5.924950\n",
      "    I    Pb    Cs\n",
      "    3    1    1\n",
      "Selective Dynamics\n",
      "Direct\n",
      "    0.5  0.0  0.5    F F F\n",
      "    0.5  0.5  0.0    F F F\n",
      "    0.0  0.5  0.5    F F F\n",
      "    0.5  0.5  0.5    F F F\n",
      "    0.0  0.0  0.0    F F F\n",
      "\n",
      ">>>>>>>>>>>>> END VASPFILE >>>>>>>>>>>>>\n",
      "\n",
      "Selective Dynamics is on\n",
      "\n",
      "Writing to file: _demo/CsPbI3-seldyn.vasp\n",
      ">>>>>>>>>>>> START VASPFILE >>>>>>>>>>>>\n",
      "\n",
      "CsPbI3\n",
      "1.0\n",
      "    5.924950  0.0  0.0\n",
      "    0.0  5.924950  0.0\n",
      "    0.0  0.0  5.924950\n",
      "    I    Pb    Cs\n",
      "    3    1    1\n",
      "Direct\n",
      "    0.5    0.0    0.5\n",
      "    0.5    0.5    0.0\n",
      "    0.0    0.5    0.5\n",
      "    0.5    0.5    0.5\n",
      "    0.0    0.0    0.0\n",
      "\n",
      ">>>>>>>>>>>>> END VASPFILE >>>>>>>>>>>>>\n",
      "\n",
      "Writing to file: _demo/CsPbI3-seldyn-off.vasp\n"
     ]
    }
   ],
   "source": [
    "from Seldyn import *\n",
    "data = readfile(\"_demo/CsPbI3.vasp\")\n",
    "printvaspdata(data)\n",
    "if isSeldyn(data): print(\"Selective Dynamics is on\\n\")\n",
    "else: print(\"Selective Dynamics is off\\n\")\n",
    "data = SeldynSwitch(data) # switch it on\n",
    "printvaspdata(data)\n",
    "if isSeldyn(data): print(\"Selective Dynamics is on\\n\")\n",
    "else: print(\"Selective Dynamics is off\\n\")\n",
    "writefile(data, \"_demo/CsPbI3-seldyn.vasp\")\n",
    "data = SeldynSwitch(data) # switch it off again\n",
    "printvaspdata(data)\n",
    "writefile(data, \"_demo/CsPbI3-seldyn-off.vasp\")"
   ]
  },
  {
   "cell_type": "code",
   "execution_count": 2,
   "metadata": {},
   "outputs": [
    {
     "name": "stdout",
     "output_type": "stream",
     "text": [
      "Reading from file: _demo/CsPbI3.vasp\n",
      "Selective dynamics not switched on in POSCAR. Well dang, I'll switch it anyway...\n",
      "All flags set to F\n",
      ">>>>>>>>>>>> START VASPFILE >>>>>>>>>>>>\n",
      "\n",
      "CsPbI3\n",
      "1.0\n",
      "    5.924950  0.0  0.0\n",
      "    0.0  5.924950  0.0\n",
      "    0.0  0.0  5.924950\n",
      "    I    Pb    Cs\n",
      "    3    1    1\n",
      "Selective Dynamics\n",
      "Direct\n",
      "    0.5  0.0  0.5    T T F\n",
      "    0.5  0.5  0.0    F F F\n",
      "    0.0  0.5  0.5    F F F\n",
      "    0.5  0.5  0.5    F F F\n",
      "    0.0  0.0  0.0    F F F\n",
      "\n",
      ">>>>>>>>>>>>> END VASPFILE >>>>>>>>>>>>>\n",
      "\n",
      "Writing to file: _demo/CsPbI3-seldyn-setflags.vasp\n"
     ]
    }
   ],
   "source": [
    "from Seldyn import *\n",
    "data = readfile(\"_demo/CsPbI3.vasp\")\n",
    "data = SetFlags(data, 'TTF', [1])\n",
    "printvaspdata(data)\n",
    "writefile(data, \"_demo/CsPbI3-seldyn-setflags.vasp\")"
   ]
  },
  {
   "cell_type": "markdown",
   "metadata": {},
   "source": [
    "## CQuery.py: Coordinate look-up\n",
    "This is especially useful in a large file. I include a grain boundary model (~800 atoms) as an example\n",
    "\n",
    "### Functions\n",
    "**`CQuery(data, atomno)`**: returns true if selective dynamics is activated, false if otherwise<br>\n",
    "> `atomno`: (*int*) index of atom to look up"
   ]
  },
  {
   "cell_type": "code",
   "execution_count": 1,
   "metadata": {},
   "outputs": [
    {
     "data": {
      "application/vnd.jupyter.widget-view+json": {
       "model_id": "a4f0936fbb954a6e9479d0c102de2df9",
       "version_major": 2,
       "version_minor": 0
      },
      "text/plain": []
     },
     "metadata": {},
     "output_type": "display_data"
    },
    {
     "name": "stdout",
     "output_type": "stream",
     "text": [
      "Reading from file: _demo/GB-S2310.vasp\n",
      "Atom ID:  749  /  Al 245\n",
      "Coordinates:       0.206755012         0.802440047         0.218914002\n",
      "\n",
      "Atom ID:  750  /  Al 246\n",
      "Coordinates:       0.793245018         0.197559997         0.781085968\n",
      "\n",
      "Atom ID:  1  /  O 1\n",
      "Coordinates:       0.947574019         0.454916000         0.268278003\n",
      "\n"
     ]
    },
    {
     "data": {
      "text/plain": [
       "'O'"
      ]
     },
     "execution_count": 1,
     "metadata": {},
     "output_type": "execute_result"
    }
   ],
   "source": [
    "from CQuery import *\n",
    "data = readfile(\"_demo/GB-S2310.vasp\")\n",
    "CQuery(data, 749)\n",
    "CQuery(data, 750)\n",
    "CQuery(data, 1)"
   ]
  },
  {
   "cell_type": "markdown",
   "metadata": {},
   "source": [
    "## Cartesian.py: Cartesian Coordinates\n",
    "Switches the .vasp coordinates between Cartesian and Direct representations\n",
    "\n",
    "### Functions\n",
    "**`isCart(data)`**: (*[bool]*) returns True if Cartesian coordinates, False if direct coordinates<br>\n",
    "\n",
    "**`switchCart(data)`**: returns *data* in Cartesian if input is direct (the vice versa is not yet implemented)\n",
    "\n",
    "**`Translate(data, vector)`**: translates all atomic positions by vector<br>\n",
    "> `vector`: (*[int]*) vector (cartesian coordinates) to move atoms)"
   ]
  },
  {
   "cell_type": "code",
   "execution_count": 1,
   "metadata": {},
   "outputs": [
    {
     "name": "stdout",
     "output_type": "stream",
     "text": [
      "Reading from file: _demo/CsPbI3.vasp\n",
      "Direct\n",
      ">>>>>>>>>>>> START VASPFILE >>>>>>>>>>>>\n",
      "\n",
      "CsPbI3\n",
      "1.0\n",
      "    5.924950  0.0  0.0\n",
      "    0.0  5.924950  0.0\n",
      "    0.0  0.0  5.924950\n",
      "    I    Pb    Cs\n",
      "    3    1    1\n",
      "Direct\n",
      "    0.5  0.0  0.5\n",
      "    0.5  0.5  0.0\n",
      "    0.0  0.5  0.5\n",
      "    0.5  0.5  0.5\n",
      "    0.0  0.0  0.0\n",
      "\n",
      ">>>>>>>>>>>>> END VASPFILE >>>>>>>>>>>>>\n",
      "\n",
      "Converting: Fractional > Cartesian\n",
      "Cartesian\n",
      ">>>>>>>>>>>> START VASPFILE >>>>>>>>>>>>\n",
      "\n",
      "CsPbI3\n",
      "1.0\n",
      "    5.924950  0.0  0.0\n",
      "    0.0  5.924950  0.0\n",
      "    0.0  0.0  5.924950\n",
      "    I    Pb    Cs\n",
      "    3    1    1\n",
      "Cartesian\n",
      "       2.962475       0.000000       2.962475\n",
      "       2.962475       2.962475       0.000000\n",
      "       0.000000       2.962475       2.962475\n",
      "       2.962475       2.962475       2.962475\n",
      "       0.000000       0.000000       0.000000\n",
      "\n",
      ">>>>>>>>>>>>> END VASPFILE >>>>>>>>>>>>>\n",
      "\n",
      "Writing to file: _demo/CsPbI3-cartesian.vasp\n",
      "Reading from file: _demo/CsPbI3-cartesian1.vasp\n",
      ">>>>>>>>>>>> START VASPFILE >>>>>>>>>>>>\n",
      "\n",
      "CsPbI3\n",
      "1.0\n",
      "    5.924950  0.0  0.0\n",
      "    0.0  5.924950  0.0\n",
      "    0.0  0.0  5.924950\n",
      "    I    Pb    Cs\n",
      "    3    1    1\n",
      "Cartesian\n",
      "     2.962475       5.924950       2.962475\n",
      "     2.962475       2.962475       0.000000\n",
      "     5.924950       2.962475       2.962475\n",
      "     2.962475       2.962475       2.962475\n",
      "     5.924950       5.924950       5.924950\n",
      "\n",
      ">>>>>>>>>>>>> END VASPFILE >>>>>>>>>>>>>\n",
      "\n",
      "Converting: Cartesian > Fractional\n",
      "Direct\n",
      ">>>>>>>>>>>> START VASPFILE >>>>>>>>>>>>\n",
      "\n",
      "CsPbI3\n",
      "1.0\n",
      "    5.924950  0.0  0.0\n",
      "    0.0  5.924950  0.0\n",
      "    0.0  0.0  5.924950\n",
      "    I    Pb    Cs\n",
      "    3    1    1\n",
      "Direct\n",
      "       0.500000       0.000000       0.500000\n",
      "       0.500000       0.500000       0.000000\n",
      "       0.000000       0.500000       0.500000\n",
      "       0.500000       0.500000       0.500000\n",
      "       0.000000       0.000000       0.000000\n",
      "\n",
      ">>>>>>>>>>>>> END VASPFILE >>>>>>>>>>>>>\n",
      "\n"
     ]
    }
   ],
   "source": [
    "from Cartesian import *\n",
    "\n",
    "# Fractional to Cartesian\n",
    "data = readfile(\"_demo/CsPbI3.vasp\")\n",
    "print(\"Cartesian\" if isCart(data) else \"Direct\")\n",
    "printvaspdata(data)\n",
    "data = switchCart(data)\n",
    "print(\"Cartesian\" if isCart(data) else \"Direct\")\n",
    "printvaspdata(data)\n",
    "writefile(data, \"_demo/CsPbI3-cartesian.vasp\")\n",
    "\n",
    "# Cartesian to Fractional\n",
    "data = readfile(\"_demo/CsPbI3-cartesian1.vasp\")\n",
    "printvaspdata(data)\n",
    "data = switchCart(data)\n",
    "print(\"Cartesian\" if isCart(data) else \"Direct\")\n",
    "printvaspdata(data)"
   ]
  }
 ],
 "metadata": {
  "kernelspec": {
   "display_name": "Python 3 (ipykernel)",
   "language": "python",
   "name": "python3"
  },
  "language_info": {
   "codemirror_mode": {
    "name": "ipython",
    "version": 3
   },
   "file_extension": ".py",
   "mimetype": "text/x-python",
   "name": "python",
   "nbconvert_exporter": "python",
   "pygments_lexer": "ipython3",
   "version": "3.10.13"
  }
 },
 "nbformat": 4,
 "nbformat_minor": 4
}
